{
 "cells": [
  {
   "cell_type": "code",
   "execution_count": 1,
   "metadata": {},
   "outputs": [],
   "source": [
    "#Cartoonify Project from https://data-flair.training/blogs/cartoonify-image-opencv-python/"
   ]
  },
  {
   "cell_type": "code",
   "execution_count": 2,
   "metadata": {},
   "outputs": [
    {
     "name": "stdout",
     "output_type": "stream",
     "text": [
      "Requirement already satisfied: opencv-python in c:\\users\\sydney\\anaconda33\\lib\\site-packages (4.5.3.56)\n",
      "Requirement already satisfied: numpy>=1.14.5 in c:\\users\\sydney\\anaconda33\\lib\\site-packages (from opencv-python) (1.18.1)\n",
      "Note: you may need to restart the kernel to use updated packages.\n"
     ]
    }
   ],
   "source": [
    "pip install opencv-python"
   ]
  },
  {
   "cell_type": "code",
   "execution_count": 3,
   "metadata": {},
   "outputs": [
    {
     "name": "stdout",
     "output_type": "stream",
     "text": [
      "Requirement already satisfied: imageio in c:\\users\\sydney\\anaconda33\\lib\\site-packages (2.6.1)\n",
      "Requirement already satisfied: numpy in c:\\users\\sydney\\anaconda33\\lib\\site-packages (from imageio) (1.18.1)\n",
      "Requirement already satisfied: pillow in c:\\users\\sydney\\anaconda33\\lib\\site-packages (from imageio) (7.0.0)\n",
      "Note: you may need to restart the kernel to use updated packages.\n"
     ]
    }
   ],
   "source": [
    "pip install imageio\n"
   ]
  },
  {
   "cell_type": "code",
   "execution_count": 4,
   "metadata": {},
   "outputs": [
    {
     "name": "stdout",
     "output_type": "stream",
     "text": [
      "Requirement already satisfied: easy_gui in c:\\users\\sydney\\anaconda33\\lib\\site-packages (0.3.5)\n",
      "Requirement already satisfied: matplotlib in c:\\users\\sydney\\anaconda33\\lib\\site-packages (from easy_gui) (3.1.3)\n",
      "Requirement already satisfied: numpy>=1.11 in c:\\users\\sydney\\anaconda33\\lib\\site-packages (from matplotlib->easy_gui) (1.18.1)\n",
      "Requirement already satisfied: pyparsing!=2.0.4,!=2.1.2,!=2.1.6,>=2.0.1 in c:\\users\\sydney\\anaconda33\\lib\\site-packages (from matplotlib->easy_gui) (2.4.6)\n",
      "Requirement already satisfied: python-dateutil>=2.1 in c:\\users\\sydney\\anaconda33\\lib\\site-packages (from matplotlib->easy_gui) (2.8.1)\n",
      "Requirement already satisfied: cycler>=0.10 in c:\\users\\sydney\\anaconda33\\lib\\site-packages (from matplotlib->easy_gui) (0.10.0)\n",
      "Requirement already satisfied: kiwisolver>=1.0.1 in c:\\users\\sydney\\anaconda33\\lib\\site-packages (from matplotlib->easy_gui) (1.1.0)\n",
      "Requirement already satisfied: six>=1.5 in c:\\users\\sydney\\anaconda33\\lib\\site-packages (from python-dateutil>=2.1->matplotlib->easy_gui) (1.14.0)\n",
      "Requirement already satisfied: setuptools in c:\\users\\sydney\\anaconda33\\lib\\site-packages (from kiwisolver>=1.0.1->matplotlib->easy_gui) (45.2.0.post20200210)\n",
      "Note: you may need to restart the kernel to use updated packages.\n"
     ]
    }
   ],
   "source": [
    "pip install easy_gui"
   ]
  },
  {
   "cell_type": "code",
   "execution_count": 5,
   "metadata": {},
   "outputs": [],
   "source": [
    "#import libraries needed\n",
    "import cv2 #image processing\n",
    "import easy_gui #open the filebox\n",
    "import numpy as np #to store image\n",
    "import imageio #to read image stored at path\n",
    "import sys\n",
    "import matplotlib.pyplot as plt\n",
    "import os\n",
    "import tkinter as tk\n",
    "from tkinter import filedialog\n",
    "from tkinter import *\n",
    "from PIL import ImageTk, Image"
   ]
  },
  {
   "cell_type": "code",
   "execution_count": 6,
   "metadata": {},
   "outputs": [],
   "source": [
    "#top=tk.Tk()\n",
    "#top.geometry('400x400')\n",
    "#top.title('Cartoonify Your Image !')\n",
    "#top.configure(background='white')\n",
    "#label=Label(top,background='#CDCDCD', font=('calibri',20,'bold'))"
   ]
  },
  {
   "cell_type": "code",
   "execution_count": 7,
   "metadata": {},
   "outputs": [],
   "source": [
    "\"\"\"Fileopenbox opens the box to choose file and store file path as a string\"\"\"\n",
    "def upload():\n",
    "    ImagePath = easygui.fileopenbox()\n",
    "    cartoonify(ImagePath)"
   ]
  },
  {
   "cell_type": "code",
   "execution_count": 8,
   "metadata": {},
   "outputs": [],
   "source": [
    "#store image\n",
    "def cartoonify(ImagePath):\n",
    "    #read in the image\n",
    "    #image stored as numbers via imread function as a numpy array\n",
    "    #cell values depict R,B,G values of a pixel\n",
    "    originalimage = cv2.imread(ImagePath)\n",
    "    originalimage = cv2.cvtColor(originalimage, cv2.COLOR_BGR2RGB)\n",
    "    \n",
    "    \n",
    "    #confirm image chose\n",
    "    if originalimage is None:\n",
    "        print(\"Can not find image.\")\n",
    "        sys.exit()\n",
    "\n",
    "    \n",
    "    \n",
    "    #Convert image to grayscale\n",
    "    grayScaleImage = cv2.cvtColor(originalimage, cv2.COLOR_BGR2GRAY)\n",
    "    \n",
    "    \n",
    "    #smoothening grayscale image\n",
    "    #apply median blur to smoothen image\n",
    "    smoothGrayScale = cv2.medianBlur(grayScaleImage,5)\n",
    "    \n",
    "    \n",
    "    #Retrive the edges of image to apply cartoon effect\n",
    "    #by using thresholding technique to highlight edges\n",
    "    #this takes the mean of the neighborhood pixel values area minus a constant\n",
    "    getEdge = cv2.adaptiveThreshold(smoothGrayScale, 255,\n",
    "                                   cv2.ADAPTIVE_THRESH_MEAN_C,\n",
    "                                   cv2.THRESH_BINARY, 9, 9)\n",
    "    #plt.imshow(getEdge, cmap='gray')\n",
    "    \n",
    "    \n",
    "    #preparing a mask image\n",
    "    #apply bilateral filter to remove noise and keep edge sharp\n",
    "    colorImage = cv2.bilateralFilter(originalimage, 9, 300, 300)\n",
    "    #plt.imshow(colorImage, cmap='gray')\n",
    "    \n",
    "    \n",
    "    #Give cartoon effect\n",
    "    #masking edged image with BEAUTIFY image\n",
    "    cartoonImage = cv2.bitwise_and(colorImage, colorImage, mask=getEdge)\n",
    "    plt.imshow(cartoonImage, cmap='gray')\n",
    "    \n",
    "    return cartoonImage"
   ]
  },
  {
   "cell_type": "code",
   "execution_count": 9,
   "metadata": {},
   "outputs": [],
   "source": [
    "#Save button\n",
    "#def save(resized6, ImagePath):\n",
    "#    #save an image using imwrite\n",
    " #   newimagename = 'New Cartoon Image'\n",
    "  #  image.save(ImagePath)"
   ]
  },
  {
   "cell_type": "code",
   "execution_count": 10,
   "metadata": {},
   "outputs": [],
   "source": [
    "def save(cartoonImage, ImagePath):\n",
    "    #saving an image using imwrite()\n",
    "    newName=\"cartoonified_Image\"\n",
    "    path1 = os.path.dirname(ImagePath)\n",
    "    extension=os.path.splitext(ImagePath)[1]\n",
    "    path = os.path.join(path1, newName+extension)\n",
    "    cv2.imwrite(path, cv2.cvtColor(cartoonImage, cv2.COLOR_RGB2BGR))\n",
    "    I = \"Image saved by name \" + newName +\" at \"+ path\n",
    "    tk.messagebox.showinfo(title=None, message=I)"
   ]
  },
  {
   "cell_type": "code",
   "execution_count": 11,
   "metadata": {},
   "outputs": [],
   "source": [
    "#upload=Button(top,text=\"New Cartoon Image\",command=upload,padx=10,pady=5)\n",
    "#upload.configure(background='#364156', foreground='white',font=('calibri',10,'bold'))\n",
    "#upload.pack(side=TOP,pady=50)\n",
    "\n",
    "#top.mainloop()\n"
   ]
  },
  {
   "cell_type": "code",
   "execution_count": null,
   "metadata": {},
   "outputs": [],
   "source": [
    "save(cartoonify('C:/Users/Sydney/Pictures/imageb.jpeg'), 'C:/Users/Sydney/Pictures/imageb.jpeg')"
   ]
  },
  {
   "cell_type": "code",
   "execution_count": null,
   "metadata": {},
   "outputs": [],
   "source": [
    "#save(cartoonify('C:/Users/Sydney/Pictures/imagea.jpeg'), 'C:/Users/Sydney/Pictures/imagea.jpeg')"
   ]
  },
  {
   "cell_type": "code",
   "execution_count": null,
   "metadata": {},
   "outputs": [],
   "source": [
    "#save(cartoonify('C:/Users/Sydney/Pictures/imagec.jpeg'), 'C:/Users/Sydney/Pictures/imagec.jpeg')"
   ]
  }
 ],
 "metadata": {
  "kernelspec": {
   "display_name": "Python 3",
   "language": "python",
   "name": "python3"
  },
  "language_info": {
   "codemirror_mode": {
    "name": "ipython",
    "version": 3
   },
   "file_extension": ".py",
   "mimetype": "text/x-python",
   "name": "python",
   "nbconvert_exporter": "python",
   "pygments_lexer": "ipython3",
   "version": "3.7.6"
  }
 },
 "nbformat": 4,
 "nbformat_minor": 4
}
