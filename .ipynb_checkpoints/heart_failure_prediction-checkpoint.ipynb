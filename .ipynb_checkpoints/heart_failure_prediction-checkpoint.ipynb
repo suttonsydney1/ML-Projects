{
 "cells": [
  {
   "cell_type": "markdown",
   "metadata": {},
   "source": [
    "Data taken from Kaggle https://www.kaggle.com/andrewmvd/heart-failure-clinical-data\n",
    "Originally from https://archive.ics.uci.edu/ml/datasets/Heart+failure+clinical+records\n",
    "\n",
    "Extra: https://bmcmedinformdecismak.biomedcentral.com/articles/10.1186/s12911-020-1023-5/tables/1\n",
    "\n",
    "Thirteen (13) clinical features:\n",
    "\n",
    "- age: age of the patient (years)\n",
    "- anaemia: decrease of red blood cells or hemoglobin (boolean)\n",
    "- high blood pressure: if the patient has hypertension (boolean)\n",
    "- creatinine phosphokinase (CPK): level of the CPK enzyme in the blood (mcg/L)\n",
    "- diabetes: if the patient has diabetes (boolean)\n",
    "- ejection fraction: percentage of blood leaving the heart at each contraction (percentage)\n",
    "- platelets: platelets in the blood (kiloplatelets/mL)\n",
    "- sex: woman or man (binary)\n",
    "- serum creatinine: level of serum creatinine in the blood (mg/dL)\n",
    "- serum sodium: level of serum sodium in the blood (mEq/L)\n",
    "- smoking: if the patient smokes or not (boolean)\n",
    "- time: follow-up period (days)\n",
    "- [target] death event: if the patient deceased during the follow-up period (boolean)"
   ]
  },
  {
   "cell_type": "code",
   "execution_count": 1,
   "metadata": {},
   "outputs": [
    {
     "name": "stdout",
     "output_type": "stream",
     "text": [
      "Requirement already satisfied: imblearn in c:\\users\\sydney\\anaconda33\\lib\\site-packages (0.0)\n",
      "Requirement already satisfied: imbalanced-learn in c:\\users\\sydney\\anaconda33\\lib\\site-packages (from imblearn) (0.8.0)\n",
      "Requirement already satisfied: joblib>=0.11 in c:\\users\\sydney\\anaconda33\\lib\\site-packages (from imbalanced-learn->imblearn) (0.14.1)\n",
      "Requirement already satisfied: scipy>=0.19.1 in c:\\users\\sydney\\anaconda33\\lib\\site-packages (from imbalanced-learn->imblearn) (1.4.1)\n",
      "Requirement already satisfied: scikit-learn>=0.24 in c:\\users\\sydney\\anaconda33\\lib\\site-packages (from imbalanced-learn->imblearn) (0.24.2)\n",
      "Requirement already satisfied: numpy>=1.13.3 in c:\\users\\sydney\\anaconda33\\lib\\site-packages (from imbalanced-learn->imblearn) (1.18.1)\n",
      "Requirement already satisfied: threadpoolctl>=2.0.0 in c:\\users\\sydney\\anaconda33\\lib\\site-packages (from scikit-learn>=0.24->imbalanced-learn->imblearn) (2.2.0)\n",
      "Note: you may need to restart the kernel to use updated packages.\n"
     ]
    }
   ],
   "source": [
    "pip install imblearn"
   ]
  },
  {
   "cell_type": "code",
   "execution_count": 2,
   "metadata": {},
   "outputs": [],
   "source": [
    "#import necessary libraries \n",
    "%matplotlib inline\n",
    "import matplotlib.pyplot as plt\n",
    "\n",
    "import os, sys\n",
    "import itertools\n",
    "from imblearn.under_sampling import RandomUnderSampler\n",
    "import numpy as np\n",
    "import pandas as pd"
   ]
  },
  {
   "cell_type": "code",
   "execution_count": 3,
   "metadata": {},
   "outputs": [
    {
     "data": {
      "text/html": [
       "<div>\n",
       "<style scoped>\n",
       "    .dataframe tbody tr th:only-of-type {\n",
       "        vertical-align: middle;\n",
       "    }\n",
       "\n",
       "    .dataframe tbody tr th {\n",
       "        vertical-align: top;\n",
       "    }\n",
       "\n",
       "    .dataframe thead th {\n",
       "        text-align: right;\n",
       "    }\n",
       "</style>\n",
       "<table border=\"1\" class=\"dataframe\">\n",
       "  <thead>\n",
       "    <tr style=\"text-align: right;\">\n",
       "      <th></th>\n",
       "      <th>age</th>\n",
       "      <th>anaemia</th>\n",
       "      <th>creatinine_phosphokinase</th>\n",
       "      <th>diabetes</th>\n",
       "      <th>ejection_fraction</th>\n",
       "      <th>high_blood_pressure</th>\n",
       "      <th>platelets</th>\n",
       "      <th>serum_creatinine</th>\n",
       "      <th>serum_sodium</th>\n",
       "      <th>sex</th>\n",
       "      <th>smoking</th>\n",
       "      <th>time</th>\n",
       "      <th>DEATH_EVENT</th>\n",
       "    </tr>\n",
       "  </thead>\n",
       "  <tbody>\n",
       "    <tr>\n",
       "      <th>0</th>\n",
       "      <td>75.0</td>\n",
       "      <td>0</td>\n",
       "      <td>582</td>\n",
       "      <td>0</td>\n",
       "      <td>20</td>\n",
       "      <td>1</td>\n",
       "      <td>265000.00</td>\n",
       "      <td>1.9</td>\n",
       "      <td>130</td>\n",
       "      <td>1</td>\n",
       "      <td>0</td>\n",
       "      <td>4</td>\n",
       "      <td>1</td>\n",
       "    </tr>\n",
       "    <tr>\n",
       "      <th>1</th>\n",
       "      <td>55.0</td>\n",
       "      <td>0</td>\n",
       "      <td>7861</td>\n",
       "      <td>0</td>\n",
       "      <td>38</td>\n",
       "      <td>0</td>\n",
       "      <td>263358.03</td>\n",
       "      <td>1.1</td>\n",
       "      <td>136</td>\n",
       "      <td>1</td>\n",
       "      <td>0</td>\n",
       "      <td>6</td>\n",
       "      <td>1</td>\n",
       "    </tr>\n",
       "    <tr>\n",
       "      <th>2</th>\n",
       "      <td>65.0</td>\n",
       "      <td>0</td>\n",
       "      <td>146</td>\n",
       "      <td>0</td>\n",
       "      <td>20</td>\n",
       "      <td>0</td>\n",
       "      <td>162000.00</td>\n",
       "      <td>1.3</td>\n",
       "      <td>129</td>\n",
       "      <td>1</td>\n",
       "      <td>1</td>\n",
       "      <td>7</td>\n",
       "      <td>1</td>\n",
       "    </tr>\n",
       "    <tr>\n",
       "      <th>3</th>\n",
       "      <td>50.0</td>\n",
       "      <td>1</td>\n",
       "      <td>111</td>\n",
       "      <td>0</td>\n",
       "      <td>20</td>\n",
       "      <td>0</td>\n",
       "      <td>210000.00</td>\n",
       "      <td>1.9</td>\n",
       "      <td>137</td>\n",
       "      <td>1</td>\n",
       "      <td>0</td>\n",
       "      <td>7</td>\n",
       "      <td>1</td>\n",
       "    </tr>\n",
       "    <tr>\n",
       "      <th>4</th>\n",
       "      <td>65.0</td>\n",
       "      <td>1</td>\n",
       "      <td>160</td>\n",
       "      <td>1</td>\n",
       "      <td>20</td>\n",
       "      <td>0</td>\n",
       "      <td>327000.00</td>\n",
       "      <td>2.7</td>\n",
       "      <td>116</td>\n",
       "      <td>0</td>\n",
       "      <td>0</td>\n",
       "      <td>8</td>\n",
       "      <td>1</td>\n",
       "    </tr>\n",
       "  </tbody>\n",
       "</table>\n",
       "</div>"
      ],
      "text/plain": [
       "    age  anaemia  creatinine_phosphokinase  diabetes  ejection_fraction  \\\n",
       "0  75.0        0                       582         0                 20   \n",
       "1  55.0        0                      7861         0                 38   \n",
       "2  65.0        0                       146         0                 20   \n",
       "3  50.0        1                       111         0                 20   \n",
       "4  65.0        1                       160         1                 20   \n",
       "\n",
       "   high_blood_pressure  platelets  serum_creatinine  serum_sodium  sex  \\\n",
       "0                    1  265000.00               1.9           130    1   \n",
       "1                    0  263358.03               1.1           136    1   \n",
       "2                    0  162000.00               1.3           129    1   \n",
       "3                    0  210000.00               1.9           137    1   \n",
       "4                    0  327000.00               2.7           116    0   \n",
       "\n",
       "   smoking  time  DEATH_EVENT  \n",
       "0        0     4            1  \n",
       "1        0     6            1  \n",
       "2        1     7            1  \n",
       "3        0     7            1  \n",
       "4        0     8            1  "
      ]
     },
     "execution_count": 3,
     "metadata": {},
     "output_type": "execute_result"
    }
   ],
   "source": [
    "#import the dataset and view\n",
    "dataset = 'C:/Users/Sydney/Desktop/heart_failure_clinical_records_dataset.csv'\n",
    "dataset = pd.read_csv(dataset).reset_index(drop=True)\n",
    "\n",
    "dataset.head()"
   ]
  },
  {
   "cell_type": "markdown",
   "metadata": {},
   "source": [
    "### Data preprocessing and data cleaning"
   ]
  },
  {
   "cell_type": "code",
   "execution_count": 4,
   "metadata": {},
   "outputs": [
    {
     "data": {
      "text/html": [
       "<div>\n",
       "<style scoped>\n",
       "    .dataframe tbody tr th:only-of-type {\n",
       "        vertical-align: middle;\n",
       "    }\n",
       "\n",
       "    .dataframe tbody tr th {\n",
       "        vertical-align: top;\n",
       "    }\n",
       "\n",
       "    .dataframe thead th {\n",
       "        text-align: right;\n",
       "    }\n",
       "</style>\n",
       "<table border=\"1\" class=\"dataframe\">\n",
       "  <thead>\n",
       "    <tr style=\"text-align: right;\">\n",
       "      <th></th>\n",
       "      <th>age</th>\n",
       "      <th>anaemia</th>\n",
       "      <th>creatinine_phosphokinase</th>\n",
       "      <th>diabetes</th>\n",
       "      <th>ejection_fraction</th>\n",
       "      <th>high_blood_pressure</th>\n",
       "      <th>platelets</th>\n",
       "      <th>serum_creatinine</th>\n",
       "      <th>serum_sodium</th>\n",
       "      <th>sex</th>\n",
       "      <th>smoking</th>\n",
       "      <th>time</th>\n",
       "      <th>DEATH_EVENT</th>\n",
       "    </tr>\n",
       "  </thead>\n",
       "  <tbody>\n",
       "    <tr>\n",
       "      <th>count</th>\n",
       "      <td>299.000000</td>\n",
       "      <td>299.000000</td>\n",
       "      <td>299.000000</td>\n",
       "      <td>299.000000</td>\n",
       "      <td>299.000000</td>\n",
       "      <td>299.000000</td>\n",
       "      <td>299.000000</td>\n",
       "      <td>299.00000</td>\n",
       "      <td>299.000000</td>\n",
       "      <td>299.000000</td>\n",
       "      <td>299.00000</td>\n",
       "      <td>299.000000</td>\n",
       "      <td>299.00000</td>\n",
       "    </tr>\n",
       "    <tr>\n",
       "      <th>mean</th>\n",
       "      <td>60.833893</td>\n",
       "      <td>0.431438</td>\n",
       "      <td>581.839465</td>\n",
       "      <td>0.418060</td>\n",
       "      <td>38.083612</td>\n",
       "      <td>0.351171</td>\n",
       "      <td>263358.029264</td>\n",
       "      <td>1.39388</td>\n",
       "      <td>136.625418</td>\n",
       "      <td>0.648829</td>\n",
       "      <td>0.32107</td>\n",
       "      <td>130.260870</td>\n",
       "      <td>0.32107</td>\n",
       "    </tr>\n",
       "    <tr>\n",
       "      <th>std</th>\n",
       "      <td>11.894809</td>\n",
       "      <td>0.496107</td>\n",
       "      <td>970.287881</td>\n",
       "      <td>0.494067</td>\n",
       "      <td>11.834841</td>\n",
       "      <td>0.478136</td>\n",
       "      <td>97804.236869</td>\n",
       "      <td>1.03451</td>\n",
       "      <td>4.412477</td>\n",
       "      <td>0.478136</td>\n",
       "      <td>0.46767</td>\n",
       "      <td>77.614208</td>\n",
       "      <td>0.46767</td>\n",
       "    </tr>\n",
       "    <tr>\n",
       "      <th>min</th>\n",
       "      <td>40.000000</td>\n",
       "      <td>0.000000</td>\n",
       "      <td>23.000000</td>\n",
       "      <td>0.000000</td>\n",
       "      <td>14.000000</td>\n",
       "      <td>0.000000</td>\n",
       "      <td>25100.000000</td>\n",
       "      <td>0.50000</td>\n",
       "      <td>113.000000</td>\n",
       "      <td>0.000000</td>\n",
       "      <td>0.00000</td>\n",
       "      <td>4.000000</td>\n",
       "      <td>0.00000</td>\n",
       "    </tr>\n",
       "    <tr>\n",
       "      <th>25%</th>\n",
       "      <td>51.000000</td>\n",
       "      <td>0.000000</td>\n",
       "      <td>116.500000</td>\n",
       "      <td>0.000000</td>\n",
       "      <td>30.000000</td>\n",
       "      <td>0.000000</td>\n",
       "      <td>212500.000000</td>\n",
       "      <td>0.90000</td>\n",
       "      <td>134.000000</td>\n",
       "      <td>0.000000</td>\n",
       "      <td>0.00000</td>\n",
       "      <td>73.000000</td>\n",
       "      <td>0.00000</td>\n",
       "    </tr>\n",
       "    <tr>\n",
       "      <th>50%</th>\n",
       "      <td>60.000000</td>\n",
       "      <td>0.000000</td>\n",
       "      <td>250.000000</td>\n",
       "      <td>0.000000</td>\n",
       "      <td>38.000000</td>\n",
       "      <td>0.000000</td>\n",
       "      <td>262000.000000</td>\n",
       "      <td>1.10000</td>\n",
       "      <td>137.000000</td>\n",
       "      <td>1.000000</td>\n",
       "      <td>0.00000</td>\n",
       "      <td>115.000000</td>\n",
       "      <td>0.00000</td>\n",
       "    </tr>\n",
       "    <tr>\n",
       "      <th>75%</th>\n",
       "      <td>70.000000</td>\n",
       "      <td>1.000000</td>\n",
       "      <td>582.000000</td>\n",
       "      <td>1.000000</td>\n",
       "      <td>45.000000</td>\n",
       "      <td>1.000000</td>\n",
       "      <td>303500.000000</td>\n",
       "      <td>1.40000</td>\n",
       "      <td>140.000000</td>\n",
       "      <td>1.000000</td>\n",
       "      <td>1.00000</td>\n",
       "      <td>203.000000</td>\n",
       "      <td>1.00000</td>\n",
       "    </tr>\n",
       "    <tr>\n",
       "      <th>max</th>\n",
       "      <td>95.000000</td>\n",
       "      <td>1.000000</td>\n",
       "      <td>7861.000000</td>\n",
       "      <td>1.000000</td>\n",
       "      <td>80.000000</td>\n",
       "      <td>1.000000</td>\n",
       "      <td>850000.000000</td>\n",
       "      <td>9.40000</td>\n",
       "      <td>148.000000</td>\n",
       "      <td>1.000000</td>\n",
       "      <td>1.00000</td>\n",
       "      <td>285.000000</td>\n",
       "      <td>1.00000</td>\n",
       "    </tr>\n",
       "  </tbody>\n",
       "</table>\n",
       "</div>"
      ],
      "text/plain": [
       "              age     anaemia  creatinine_phosphokinase    diabetes  \\\n",
       "count  299.000000  299.000000                299.000000  299.000000   \n",
       "mean    60.833893    0.431438                581.839465    0.418060   \n",
       "std     11.894809    0.496107                970.287881    0.494067   \n",
       "min     40.000000    0.000000                 23.000000    0.000000   \n",
       "25%     51.000000    0.000000                116.500000    0.000000   \n",
       "50%     60.000000    0.000000                250.000000    0.000000   \n",
       "75%     70.000000    1.000000                582.000000    1.000000   \n",
       "max     95.000000    1.000000               7861.000000    1.000000   \n",
       "\n",
       "       ejection_fraction  high_blood_pressure      platelets  \\\n",
       "count         299.000000           299.000000     299.000000   \n",
       "mean           38.083612             0.351171  263358.029264   \n",
       "std            11.834841             0.478136   97804.236869   \n",
       "min            14.000000             0.000000   25100.000000   \n",
       "25%            30.000000             0.000000  212500.000000   \n",
       "50%            38.000000             0.000000  262000.000000   \n",
       "75%            45.000000             1.000000  303500.000000   \n",
       "max            80.000000             1.000000  850000.000000   \n",
       "\n",
       "       serum_creatinine  serum_sodium         sex    smoking        time  \\\n",
       "count         299.00000    299.000000  299.000000  299.00000  299.000000   \n",
       "mean            1.39388    136.625418    0.648829    0.32107  130.260870   \n",
       "std             1.03451      4.412477    0.478136    0.46767   77.614208   \n",
       "min             0.50000    113.000000    0.000000    0.00000    4.000000   \n",
       "25%             0.90000    134.000000    0.000000    0.00000   73.000000   \n",
       "50%             1.10000    137.000000    1.000000    0.00000  115.000000   \n",
       "75%             1.40000    140.000000    1.000000    1.00000  203.000000   \n",
       "max             9.40000    148.000000    1.000000    1.00000  285.000000   \n",
       "\n",
       "       DEATH_EVENT  \n",
       "count    299.00000  \n",
       "mean       0.32107  \n",
       "std        0.46767  \n",
       "min        0.00000  \n",
       "25%        0.00000  \n",
       "50%        0.00000  \n",
       "75%        1.00000  \n",
       "max        1.00000  "
      ]
     },
     "execution_count": 4,
     "metadata": {},
     "output_type": "execute_result"
    }
   ],
   "source": [
    "#get idea of the mean and stds within the dataset\n",
    "dataset.describe()\n"
   ]
  },
  {
   "cell_type": "code",
   "execution_count": 5,
   "metadata": {},
   "outputs": [
    {
     "name": "stdout",
     "output_type": "stream",
     "text": [
      "<class 'pandas.core.frame.DataFrame'>\n",
      "RangeIndex: 299 entries, 0 to 298\n",
      "Data columns (total 13 columns):\n",
      " #   Column                    Non-Null Count  Dtype  \n",
      "---  ------                    --------------  -----  \n",
      " 0   age                       299 non-null    float64\n",
      " 1   anaemia                   299 non-null    int64  \n",
      " 2   creatinine_phosphokinase  299 non-null    int64  \n",
      " 3   diabetes                  299 non-null    int64  \n",
      " 4   ejection_fraction         299 non-null    int64  \n",
      " 5   high_blood_pressure       299 non-null    int64  \n",
      " 6   platelets                 299 non-null    float64\n",
      " 7   serum_creatinine          299 non-null    float64\n",
      " 8   serum_sodium              299 non-null    int64  \n",
      " 9   sex                       299 non-null    int64  \n",
      " 10  smoking                   299 non-null    int64  \n",
      " 11  time                      299 non-null    int64  \n",
      " 12  DEATH_EVENT               299 non-null    int64  \n",
      "dtypes: float64(3), int64(10)\n",
      "memory usage: 30.4 KB\n"
     ]
    }
   ],
   "source": [
    "dataset.info()"
   ]
  },
  {
   "cell_type": "code",
   "execution_count": 6,
   "metadata": {},
   "outputs": [
    {
     "data": {
      "text/plain": [
       "age                         0\n",
       "anaemia                     0\n",
       "creatinine_phosphokinase    0\n",
       "diabetes                    0\n",
       "ejection_fraction           0\n",
       "high_blood_pressure         0\n",
       "platelets                   0\n",
       "serum_creatinine            0\n",
       "serum_sodium                0\n",
       "sex                         0\n",
       "smoking                     0\n",
       "time                        0\n",
       "DEATH_EVENT                 0\n",
       "dtype: int64"
      ]
     },
     "execution_count": 6,
     "metadata": {},
     "output_type": "execute_result"
    }
   ],
   "source": [
    "#check for N/A values within the dataset\n",
    "dataset.isnull().sum()"
   ]
  },
  {
   "cell_type": "markdown",
   "metadata": {},
   "source": [
    "### Make sample + Train/Test Sets"
   ]
  },
  {
   "cell_type": "code",
   "execution_count": 7,
   "metadata": {},
   "outputs": [],
   "source": [
    "#grab random sample from the dataset that can then be used for training and testing sets\n",
    "X = dataset.drop('DEATH_EVENT', axis=1)\n",
    "y = dataset.DEATH_EVENT\n",
    "\n",
    "#randomundersampler()\n",
    "model = RandomUnderSampler(random_state=42)\n",
    "sampleX, sampley = model.fit_resample(X,y)"
   ]
  },
  {
   "cell_type": "code",
   "execution_count": 8,
   "metadata": {},
   "outputs": [],
   "source": [
    "from sklearn.preprocessing import MinMaxScaler\n",
    "from sklearn.model_selection import train_test_split"
   ]
  },
  {
   "cell_type": "code",
   "execution_count": 9,
   "metadata": {},
   "outputs": [],
   "source": [
    "#normalize the data \n",
    "processor = MinMaxScaler()\n",
    "scaled_X = processor.fit_transform(sampleX)"
   ]
  },
  {
   "cell_type": "code",
   "execution_count": 10,
   "metadata": {},
   "outputs": [],
   "source": [
    "#create training and testing sets \n",
    "X_train, X_test, y_train, y_test = train_test_split(scaled_X, sampley, test_size = 0.25)"
   ]
  },
  {
   "cell_type": "markdown",
   "metadata": {},
   "source": [
    "# Develop Pipelines"
   ]
  },
  {
   "cell_type": "code",
   "execution_count": 11,
   "metadata": {},
   "outputs": [],
   "source": [
    "#import all necessary libraries for pipeline development\n",
    "from sklearn.pipeline import Pipeline\n",
    "from sklearn.model_selection import GridSearchCV\n",
    "\n",
    "from sklearn.svm import OneClassSVM, SVC, LinearSVC, SVR\n",
    "from sklearn.decomposition import PCA\n",
    "from sklearn.neighbors import LocalOutlierFactor\n",
    "from sklearn.covariance import EllipticEnvelope\n",
    "from sklearn.ensemble import IsolationForest, RandomForestClassifier\n",
    "from sklearn.tree import DecisionTreeClassifier\n",
    "from sklearn.neighbors import KNeighborsClassifier\n",
    "\n",
    "from sklearn.feature_selection import SelectKBest, chi2, f_classif, mutual_info_classif, RFE, VarianceThreshold\n",
    "from sklearn.linear_model import LogisticRegression, LinearRegression\n",
    "from sklearn.naive_bayes import GaussianNB\n",
    "\n",
    "from sklearn.metrics import classification_report, confusion_matrix"
   ]
  },
  {
   "cell_type": "markdown",
   "metadata": {},
   "source": [
    "Each pipeline built and then tested will inclue anomoly detection to determine outliers, feature selection, then classification methods to predict yes or no to if someone experienced heart failure."
   ]
  },
  {
   "cell_type": "markdown",
   "metadata": {},
   "source": [
    "### Pipeline 1"
   ]
  },
  {
   "cell_type": "code",
   "execution_count": 12,
   "metadata": {},
   "outputs": [],
   "source": [
    "#anomoly detection with elliptic envelope\n",
    "#fit the model and then identify outliers via preciton = -1 (outlier)\n",
    "#new x and y values will be used in the pipeline for model fit\n",
    "env = EllipticEnvelope().fit(X_train, y_train)\n",
    "env_outliers = env.predict(X_train)==-1\n",
    "X_new = X_train[~env_outliers]\n",
    "y_new = y_train[~env_outliers]"
   ]
  },
  {
   "cell_type": "code",
   "execution_count": 13,
   "metadata": {},
   "outputs": [
    {
     "data": {
      "text/plain": [
       "GridSearchCV(cv=5,\n",
       "             estimator=Pipeline(steps=[('PCA', PCA()),\n",
       "                                       ('LSVC', LinearSVC(max_iter=5000))]),\n",
       "             param_grid={'LSVC__C': [0.25, 1, 1.5, 5],\n",
       "                         'PCA__n_components': [0.25, 0.5, 0.75, 1, 3, 5],\n",
       "                         'PCA__tol': [0.0, 0.1, 1, 1.5]})"
      ]
     },
     "execution_count": 13,
     "metadata": {},
     "output_type": "execute_result"
    }
   ],
   "source": [
    "#build pipeline 1\n",
    "\n",
    "#PCA used to reduce dimensionality of data + preserve variability \n",
    "#perform LinearSVC for to predict possible outcomes\n",
    "pipe1 = Pipeline([\n",
    "    ('PCA', PCA()),\n",
    "    ('LSVC', LinearSVC(max_iter=5000))\n",
    "])\n",
    "\n",
    "param_grid = {\n",
    "    'PCA__n_components':[0.25,0.5,0.75,1,3,5],\n",
    "    'PCA__tol':[0.0,0.1,1,1.5],\n",
    "    'LSVC__C':[0.25,1,1.5,5]\n",
    "}\n",
    "\n",
    "#model\n",
    "model_grid1 = GridSearchCV(pipe1, param_grid, cv=5)\n",
    "model_grid1.fit(X_new, y_new)"
   ]
  },
  {
   "cell_type": "code",
   "execution_count": 14,
   "metadata": {},
   "outputs": [],
   "source": [
    "#model_grid1.get_params().keys()"
   ]
  },
  {
   "cell_type": "code",
   "execution_count": 15,
   "metadata": {},
   "outputs": [
    {
     "data": {
      "text/plain": [
       "Pipeline(steps=[('PCA', PCA(n_components=5)),\n",
       "                ('LSVC', LinearSVC(C=0.25, max_iter=5000))])"
      ]
     },
     "execution_count": 15,
     "metadata": {},
     "output_type": "execute_result"
    }
   ],
   "source": [
    "#look at the best estiamtor for pipeline 1\n",
    "model_grid1.best_estimator_"
   ]
  },
  {
   "cell_type": "code",
   "execution_count": 16,
   "metadata": {},
   "outputs": [
    {
     "data": {
      "text/plain": [
       "{'LSVC__C': 0.25, 'PCA__n_components': 5, 'PCA__tol': 0.0}"
      ]
     },
     "execution_count": 16,
     "metadata": {},
     "output_type": "execute_result"
    }
   ],
   "source": [
    "#see best parameters individually \n",
    "model_grid1.best_params_"
   ]
  },
  {
   "cell_type": "code",
   "execution_count": 17,
   "metadata": {},
   "outputs": [
    {
     "data": {
      "text/plain": [
       "0.5895384615384616"
      ]
     },
     "execution_count": 17,
     "metadata": {},
     "output_type": "execute_result"
    }
   ],
   "source": [
    "#best score\n",
    "model_grid1.best_score_"
   ]
  },
  {
   "cell_type": "code",
   "execution_count": 18,
   "metadata": {},
   "outputs": [
    {
     "name": "stdout",
     "output_type": "stream",
     "text": [
      "{'mean_fit_time': array([0.00470748, 0.00343523, 0.00821829, 0.00316052, 0.00456223,\n",
      "       0.00667229, 0.00041738, 0.00313268, 0.00579495, 0.00651703,\n",
      "       0.00039897, 0.00457902, 0.00429134, 0.0028491 , 0.00504198,\n",
      "       0.00565639, 0.0037838 , 0.00354352, 0.00405798, 0.004352  ,\n",
      "       0.00224571, 0.00426836, 0.00383039, 0.0010303 , 0.00571766,\n",
      "       0.00282102, 0.00369563, 0.00367064, 0.0033051 , 0.0039844 ,\n",
      "       0.00401478, 0.00612741, 0.00293264, 0.00252843, 0.00019937,\n",
      "       0.00727391, 0.00019937, 0.00810442, 0.00838099, 0.        ,\n",
      "       0.00647082, 0.00617418, 0.00632706, 0.00314851, 0.00670619,\n",
      "       0.00669656, 0.00313101, 0.        , 0.00236616, 0.        ,\n",
      "       0.00311847, 0.00019946, 0.        , 0.00973473, 0.00312619,\n",
      "       0.0002049 , 0.00363145, 0.00020556, 0.00314493, 0.0061172 ,\n",
      "       0.00671439, 0.00670357, 0.00316114, 0.00060349, 0.00079618,\n",
      "       0.00419416, 0.00625758, 0.00354962, 0.        , 0.00316291,\n",
      "       0.003127  , 0.00019937, 0.01017923, 0.00691872, 0.        ,\n",
      "       0.00312715, 0.00861549, 0.00616331, 0.0034307 , 0.00375919,\n",
      "       0.0079308 , 0.00343785, 0.00837541, 0.00810995, 0.00361767,\n",
      "       0.00099735, 0.00918903, 0.00376511, 0.00473065, 0.00648265,\n",
      "       0.00335937, 0.00656734, 0.00823474, 0.00789313, 0.00383606,\n",
      "       0.00313449]), 'std_fit_time': array([0.00240559, 0.00360674, 0.00997967, 0.00387322, 0.00425781,\n",
      "       0.00570738, 0.00083475, 0.00626535, 0.00724305, 0.00798808,\n",
      "       0.00079794, 0.00625449, 0.0046332 , 0.00336133, 0.00429872,\n",
      "       0.00391474, 0.00403323, 0.00511704, 0.00431447, 0.00490594,\n",
      "       0.0003912 , 0.00357143, 0.00395977, 0.00130342, 0.00370561,\n",
      "       0.00268722, 0.00396447, 0.00406235, 0.00265145, 0.00440323,\n",
      "       0.00393904, 0.00336955, 0.00289656, 0.00302928, 0.00039873,\n",
      "       0.00778466, 0.00039873, 0.00753714, 0.0073596 , 0.        ,\n",
      "       0.00793366, 0.00756585, 0.00774944, 0.00629702, 0.00821602,\n",
      "       0.00823212, 0.00626202, 0.        , 0.00194736, 0.        ,\n",
      "       0.00623693, 0.00039892, 0.        , 0.00628153, 0.00625238,\n",
      "       0.00040979, 0.00606269, 0.00041113, 0.00628986, 0.0075736 ,\n",
      "       0.00822343, 0.00823921, 0.00632229, 0.00120697, 0.00115965,\n",
      "       0.00612674, 0.00766395, 0.00709925, 0.        , 0.00632582,\n",
      "       0.00625401, 0.00039873, 0.00607138, 0.00847938, 0.        ,\n",
      "       0.00625429, 0.00834926, 0.00717179, 0.0068614 , 0.00612374,\n",
      "       0.00727755, 0.00687571, 0.00749084, 0.00765198, 0.00674854,\n",
      "       0.00126154, 0.00693899, 0.00657907, 0.00627445, 0.00794906,\n",
      "       0.00623206, 0.0076461 , 0.00726476, 0.00727313, 0.00607108,\n",
      "       0.00626898]), 'mean_score_time': array([0.00118651, 0.00019946, 0.00079761, 0.0001955 , 0.00072145,\n",
      "       0.00020571, 0.00341358, 0.        , 0.        , 0.00039678,\n",
      "       0.        , 0.00182333, 0.0001997 , 0.00161462, 0.00040522,\n",
      "       0.        , 0.00040894, 0.00163026, 0.00202069, 0.        ,\n",
      "       0.        , 0.00020428, 0.00061336, 0.00365267, 0.00224838,\n",
      "       0.00020628, 0.00186081, 0.00159302, 0.00040517, 0.00242801,\n",
      "       0.00111303, 0.00053062, 0.00067654, 0.00081167, 0.        ,\n",
      "       0.        , 0.        , 0.00019946, 0.00020599, 0.00335879,\n",
      "       0.00040503, 0.00019951, 0.00019984, 0.00331445, 0.00033593,\n",
      "       0.        , 0.        , 0.00311933, 0.00151267, 0.        ,\n",
      "       0.        , 0.        , 0.        , 0.00019908, 0.        ,\n",
      "       0.00314727, 0.00315413, 0.        , 0.00019937, 0.        ,\n",
      "       0.00151677, 0.00150189, 0.00020685, 0.00019956, 0.00373807,\n",
      "       0.00039883, 0.        , 0.        , 0.00648494, 0.00019951,\n",
      "       0.00310922, 0.        , 0.        , 0.00323501, 0.0031322 ,\n",
      "       0.00314307, 0.00073252, 0.00019975, 0.00317583, 0.00336146,\n",
      "       0.00039878, 0.        , 0.        , 0.00337334, 0.        ,\n",
      "       0.        , 0.00019913, 0.        , 0.        , 0.        ,\n",
      "       0.00019956, 0.        , 0.        , 0.        , 0.        ,\n",
      "       0.00316801]), 'std_score_time': array([0.00184603, 0.00039892, 0.0003988 , 0.00039101, 0.00089179,\n",
      "       0.00041142, 0.00682716, 0.        , 0.        , 0.00079355,\n",
      "       0.        , 0.0031714 , 0.0003994 , 0.00273996, 0.00081043,\n",
      "       0.        , 0.00081787, 0.00277237, 0.00404139, 0.        ,\n",
      "       0.        , 0.00040855, 0.00081589, 0.00374407, 0.00308081,\n",
      "       0.00041256, 0.00275868, 0.00318604, 0.00049633, 0.00390172,\n",
      "       0.00130977, 0.00079563, 0.00093767, 0.00162334, 0.        ,\n",
      "       0.        , 0.        , 0.00039892, 0.00041199, 0.00671759,\n",
      "       0.00081005, 0.00039902, 0.00039968, 0.0061294 , 0.00067186,\n",
      "       0.        , 0.        , 0.00623865, 0.00136591, 0.        ,\n",
      "       0.        , 0.        , 0.        , 0.00039816, 0.        ,\n",
      "       0.00629454, 0.00630827, 0.        , 0.00039873, 0.        ,\n",
      "       0.00303354, 0.00300379, 0.0004137 , 0.00039911, 0.00606167,\n",
      "       0.00079765, 0.        , 0.        , 0.00794894, 0.00039902,\n",
      "       0.00621843, 0.        , 0.        , 0.00647001, 0.0062644 ,\n",
      "       0.00628614, 0.00090063, 0.00039949, 0.00635166, 0.00623512,\n",
      "       0.0004884 , 0.        , 0.        , 0.00626018, 0.        ,\n",
      "       0.        , 0.00039825, 0.        , 0.        , 0.        ,\n",
      "       0.00039911, 0.        , 0.        , 0.        , 0.        ,\n",
      "       0.00633602]), 'param_LSVC__C': masked_array(data=[0.25, 0.25, 0.25, 0.25, 0.25, 0.25, 0.25, 0.25, 0.25,\n",
      "                   0.25, 0.25, 0.25, 0.25, 0.25, 0.25, 0.25, 0.25, 0.25,\n",
      "                   0.25, 0.25, 0.25, 0.25, 0.25, 0.25, 1, 1, 1, 1, 1, 1,\n",
      "                   1, 1, 1, 1, 1, 1, 1, 1, 1, 1, 1, 1, 1, 1, 1, 1, 1, 1,\n",
      "                   1.5, 1.5, 1.5, 1.5, 1.5, 1.5, 1.5, 1.5, 1.5, 1.5, 1.5,\n",
      "                   1.5, 1.5, 1.5, 1.5, 1.5, 1.5, 1.5, 1.5, 1.5, 1.5, 1.5,\n",
      "                   1.5, 1.5, 5, 5, 5, 5, 5, 5, 5, 5, 5, 5, 5, 5, 5, 5, 5,\n",
      "                   5, 5, 5, 5, 5, 5, 5, 5, 5],\n",
      "             mask=[False, False, False, False, False, False, False, False,\n",
      "                   False, False, False, False, False, False, False, False,\n",
      "                   False, False, False, False, False, False, False, False,\n",
      "                   False, False, False, False, False, False, False, False,\n",
      "                   False, False, False, False, False, False, False, False,\n",
      "                   False, False, False, False, False, False, False, False,\n",
      "                   False, False, False, False, False, False, False, False,\n",
      "                   False, False, False, False, False, False, False, False,\n",
      "                   False, False, False, False, False, False, False, False,\n",
      "                   False, False, False, False, False, False, False, False,\n",
      "                   False, False, False, False, False, False, False, False,\n",
      "                   False, False, False, False, False, False, False, False],\n",
      "       fill_value='?',\n",
      "            dtype=object), 'param_PCA__n_components': masked_array(data=[0.25, 0.25, 0.25, 0.25, 0.5, 0.5, 0.5, 0.5, 0.75, 0.75,\n",
      "                   0.75, 0.75, 1, 1, 1, 1, 3, 3, 3, 3, 5, 5, 5, 5, 0.25,\n",
      "                   0.25, 0.25, 0.25, 0.5, 0.5, 0.5, 0.5, 0.75, 0.75, 0.75,\n",
      "                   0.75, 1, 1, 1, 1, 3, 3, 3, 3, 5, 5, 5, 5, 0.25, 0.25,\n",
      "                   0.25, 0.25, 0.5, 0.5, 0.5, 0.5, 0.75, 0.75, 0.75, 0.75,\n",
      "                   1, 1, 1, 1, 3, 3, 3, 3, 5, 5, 5, 5, 0.25, 0.25, 0.25,\n",
      "                   0.25, 0.5, 0.5, 0.5, 0.5, 0.75, 0.75, 0.75, 0.75, 1, 1,\n",
      "                   1, 1, 3, 3, 3, 3, 5, 5, 5, 5],\n",
      "             mask=[False, False, False, False, False, False, False, False,\n",
      "                   False, False, False, False, False, False, False, False,\n",
      "                   False, False, False, False, False, False, False, False,\n",
      "                   False, False, False, False, False, False, False, False,\n",
      "                   False, False, False, False, False, False, False, False,\n",
      "                   False, False, False, False, False, False, False, False,\n",
      "                   False, False, False, False, False, False, False, False,\n",
      "                   False, False, False, False, False, False, False, False,\n",
      "                   False, False, False, False, False, False, False, False,\n",
      "                   False, False, False, False, False, False, False, False,\n",
      "                   False, False, False, False, False, False, False, False,\n",
      "                   False, False, False, False, False, False, False, False],\n",
      "       fill_value='?',\n",
      "            dtype=object), 'param_PCA__tol': masked_array(data=[0.0, 0.1, 1, 1.5, 0.0, 0.1, 1, 1.5, 0.0, 0.1, 1, 1.5,\n",
      "                   0.0, 0.1, 1, 1.5, 0.0, 0.1, 1, 1.5, 0.0, 0.1, 1, 1.5,\n",
      "                   0.0, 0.1, 1, 1.5, 0.0, 0.1, 1, 1.5, 0.0, 0.1, 1, 1.5,\n",
      "                   0.0, 0.1, 1, 1.5, 0.0, 0.1, 1, 1.5, 0.0, 0.1, 1, 1.5,\n",
      "                   0.0, 0.1, 1, 1.5, 0.0, 0.1, 1, 1.5, 0.0, 0.1, 1, 1.5,\n",
      "                   0.0, 0.1, 1, 1.5, 0.0, 0.1, 1, 1.5, 0.0, 0.1, 1, 1.5,\n",
      "                   0.0, 0.1, 1, 1.5, 0.0, 0.1, 1, 1.5, 0.0, 0.1, 1, 1.5,\n",
      "                   0.0, 0.1, 1, 1.5, 0.0, 0.1, 1, 1.5, 0.0, 0.1, 1, 1.5],\n",
      "             mask=[False, False, False, False, False, False, False, False,\n",
      "                   False, False, False, False, False, False, False, False,\n",
      "                   False, False, False, False, False, False, False, False,\n",
      "                   False, False, False, False, False, False, False, False,\n",
      "                   False, False, False, False, False, False, False, False,\n",
      "                   False, False, False, False, False, False, False, False,\n",
      "                   False, False, False, False, False, False, False, False,\n",
      "                   False, False, False, False, False, False, False, False,\n",
      "                   False, False, False, False, False, False, False, False,\n",
      "                   False, False, False, False, False, False, False, False,\n",
      "                   False, False, False, False, False, False, False, False,\n",
      "                   False, False, False, False, False, False, False, False],\n",
      "       fill_value='?',\n",
      "            dtype=object), 'params': [{'LSVC__C': 0.25, 'PCA__n_components': 0.25, 'PCA__tol': 0.0}, {'LSVC__C': 0.25, 'PCA__n_components': 0.25, 'PCA__tol': 0.1}, {'LSVC__C': 0.25, 'PCA__n_components': 0.25, 'PCA__tol': 1}, {'LSVC__C': 0.25, 'PCA__n_components': 0.25, 'PCA__tol': 1.5}, {'LSVC__C': 0.25, 'PCA__n_components': 0.5, 'PCA__tol': 0.0}, {'LSVC__C': 0.25, 'PCA__n_components': 0.5, 'PCA__tol': 0.1}, {'LSVC__C': 0.25, 'PCA__n_components': 0.5, 'PCA__tol': 1}, {'LSVC__C': 0.25, 'PCA__n_components': 0.5, 'PCA__tol': 1.5}, {'LSVC__C': 0.25, 'PCA__n_components': 0.75, 'PCA__tol': 0.0}, {'LSVC__C': 0.25, 'PCA__n_components': 0.75, 'PCA__tol': 0.1}, {'LSVC__C': 0.25, 'PCA__n_components': 0.75, 'PCA__tol': 1}, {'LSVC__C': 0.25, 'PCA__n_components': 0.75, 'PCA__tol': 1.5}, {'LSVC__C': 0.25, 'PCA__n_components': 1, 'PCA__tol': 0.0}, {'LSVC__C': 0.25, 'PCA__n_components': 1, 'PCA__tol': 0.1}, {'LSVC__C': 0.25, 'PCA__n_components': 1, 'PCA__tol': 1}, {'LSVC__C': 0.25, 'PCA__n_components': 1, 'PCA__tol': 1.5}, {'LSVC__C': 0.25, 'PCA__n_components': 3, 'PCA__tol': 0.0}, {'LSVC__C': 0.25, 'PCA__n_components': 3, 'PCA__tol': 0.1}, {'LSVC__C': 0.25, 'PCA__n_components': 3, 'PCA__tol': 1}, {'LSVC__C': 0.25, 'PCA__n_components': 3, 'PCA__tol': 1.5}, {'LSVC__C': 0.25, 'PCA__n_components': 5, 'PCA__tol': 0.0}, {'LSVC__C': 0.25, 'PCA__n_components': 5, 'PCA__tol': 0.1}, {'LSVC__C': 0.25, 'PCA__n_components': 5, 'PCA__tol': 1}, {'LSVC__C': 0.25, 'PCA__n_components': 5, 'PCA__tol': 1.5}, {'LSVC__C': 1, 'PCA__n_components': 0.25, 'PCA__tol': 0.0}, {'LSVC__C': 1, 'PCA__n_components': 0.25, 'PCA__tol': 0.1}, {'LSVC__C': 1, 'PCA__n_components': 0.25, 'PCA__tol': 1}, {'LSVC__C': 1, 'PCA__n_components': 0.25, 'PCA__tol': 1.5}, {'LSVC__C': 1, 'PCA__n_components': 0.5, 'PCA__tol': 0.0}, {'LSVC__C': 1, 'PCA__n_components': 0.5, 'PCA__tol': 0.1}, {'LSVC__C': 1, 'PCA__n_components': 0.5, 'PCA__tol': 1}, {'LSVC__C': 1, 'PCA__n_components': 0.5, 'PCA__tol': 1.5}, {'LSVC__C': 1, 'PCA__n_components': 0.75, 'PCA__tol': 0.0}, {'LSVC__C': 1, 'PCA__n_components': 0.75, 'PCA__tol': 0.1}, {'LSVC__C': 1, 'PCA__n_components': 0.75, 'PCA__tol': 1}, {'LSVC__C': 1, 'PCA__n_components': 0.75, 'PCA__tol': 1.5}, {'LSVC__C': 1, 'PCA__n_components': 1, 'PCA__tol': 0.0}, {'LSVC__C': 1, 'PCA__n_components': 1, 'PCA__tol': 0.1}, {'LSVC__C': 1, 'PCA__n_components': 1, 'PCA__tol': 1}, {'LSVC__C': 1, 'PCA__n_components': 1, 'PCA__tol': 1.5}, {'LSVC__C': 1, 'PCA__n_components': 3, 'PCA__tol': 0.0}, {'LSVC__C': 1, 'PCA__n_components': 3, 'PCA__tol': 0.1}, {'LSVC__C': 1, 'PCA__n_components': 3, 'PCA__tol': 1}, {'LSVC__C': 1, 'PCA__n_components': 3, 'PCA__tol': 1.5}, {'LSVC__C': 1, 'PCA__n_components': 5, 'PCA__tol': 0.0}, {'LSVC__C': 1, 'PCA__n_components': 5, 'PCA__tol': 0.1}, {'LSVC__C': 1, 'PCA__n_components': 5, 'PCA__tol': 1}, {'LSVC__C': 1, 'PCA__n_components': 5, 'PCA__tol': 1.5}, {'LSVC__C': 1.5, 'PCA__n_components': 0.25, 'PCA__tol': 0.0}, {'LSVC__C': 1.5, 'PCA__n_components': 0.25, 'PCA__tol': 0.1}, {'LSVC__C': 1.5, 'PCA__n_components': 0.25, 'PCA__tol': 1}, {'LSVC__C': 1.5, 'PCA__n_components': 0.25, 'PCA__tol': 1.5}, {'LSVC__C': 1.5, 'PCA__n_components': 0.5, 'PCA__tol': 0.0}, {'LSVC__C': 1.5, 'PCA__n_components': 0.5, 'PCA__tol': 0.1}, {'LSVC__C': 1.5, 'PCA__n_components': 0.5, 'PCA__tol': 1}, {'LSVC__C': 1.5, 'PCA__n_components': 0.5, 'PCA__tol': 1.5}, {'LSVC__C': 1.5, 'PCA__n_components': 0.75, 'PCA__tol': 0.0}, {'LSVC__C': 1.5, 'PCA__n_components': 0.75, 'PCA__tol': 0.1}, {'LSVC__C': 1.5, 'PCA__n_components': 0.75, 'PCA__tol': 1}, {'LSVC__C': 1.5, 'PCA__n_components': 0.75, 'PCA__tol': 1.5}, {'LSVC__C': 1.5, 'PCA__n_components': 1, 'PCA__tol': 0.0}, {'LSVC__C': 1.5, 'PCA__n_components': 1, 'PCA__tol': 0.1}, {'LSVC__C': 1.5, 'PCA__n_components': 1, 'PCA__tol': 1}, {'LSVC__C': 1.5, 'PCA__n_components': 1, 'PCA__tol': 1.5}, {'LSVC__C': 1.5, 'PCA__n_components': 3, 'PCA__tol': 0.0}, {'LSVC__C': 1.5, 'PCA__n_components': 3, 'PCA__tol': 0.1}, {'LSVC__C': 1.5, 'PCA__n_components': 3, 'PCA__tol': 1}, {'LSVC__C': 1.5, 'PCA__n_components': 3, 'PCA__tol': 1.5}, {'LSVC__C': 1.5, 'PCA__n_components': 5, 'PCA__tol': 0.0}, {'LSVC__C': 1.5, 'PCA__n_components': 5, 'PCA__tol': 0.1}, {'LSVC__C': 1.5, 'PCA__n_components': 5, 'PCA__tol': 1}, {'LSVC__C': 1.5, 'PCA__n_components': 5, 'PCA__tol': 1.5}, {'LSVC__C': 5, 'PCA__n_components': 0.25, 'PCA__tol': 0.0}, {'LSVC__C': 5, 'PCA__n_components': 0.25, 'PCA__tol': 0.1}, {'LSVC__C': 5, 'PCA__n_components': 0.25, 'PCA__tol': 1}, {'LSVC__C': 5, 'PCA__n_components': 0.25, 'PCA__tol': 1.5}, {'LSVC__C': 5, 'PCA__n_components': 0.5, 'PCA__tol': 0.0}, {'LSVC__C': 5, 'PCA__n_components': 0.5, 'PCA__tol': 0.1}, {'LSVC__C': 5, 'PCA__n_components': 0.5, 'PCA__tol': 1}, {'LSVC__C': 5, 'PCA__n_components': 0.5, 'PCA__tol': 1.5}, {'LSVC__C': 5, 'PCA__n_components': 0.75, 'PCA__tol': 0.0}, {'LSVC__C': 5, 'PCA__n_components': 0.75, 'PCA__tol': 0.1}, {'LSVC__C': 5, 'PCA__n_components': 0.75, 'PCA__tol': 1}, {'LSVC__C': 5, 'PCA__n_components': 0.75, 'PCA__tol': 1.5}, {'LSVC__C': 5, 'PCA__n_components': 1, 'PCA__tol': 0.0}, {'LSVC__C': 5, 'PCA__n_components': 1, 'PCA__tol': 0.1}, {'LSVC__C': 5, 'PCA__n_components': 1, 'PCA__tol': 1}, {'LSVC__C': 5, 'PCA__n_components': 1, 'PCA__tol': 1.5}, {'LSVC__C': 5, 'PCA__n_components': 3, 'PCA__tol': 0.0}, {'LSVC__C': 5, 'PCA__n_components': 3, 'PCA__tol': 0.1}, {'LSVC__C': 5, 'PCA__n_components': 3, 'PCA__tol': 1}, {'LSVC__C': 5, 'PCA__n_components': 3, 'PCA__tol': 1.5}, {'LSVC__C': 5, 'PCA__n_components': 5, 'PCA__tol': 0.0}, {'LSVC__C': 5, 'PCA__n_components': 5, 'PCA__tol': 0.1}, {'LSVC__C': 5, 'PCA__n_components': 5, 'PCA__tol': 1}, {'LSVC__C': 5, 'PCA__n_components': 5, 'PCA__tol': 1.5}], 'split0_test_score': array([0.61538462, 0.61538462, 0.61538462, 0.61538462, 0.57692308,\n",
      "       0.57692308, 0.57692308, 0.57692308, 0.61538462, 0.61538462,\n",
      "       0.61538462, 0.61538462, 0.53846154, 0.53846154, 0.53846154,\n",
      "       0.53846154, 0.57692308, 0.57692308, 0.57692308, 0.57692308,\n",
      "       0.57692308, 0.57692308, 0.57692308, 0.57692308, 0.61538462,\n",
      "       0.61538462, 0.61538462, 0.61538462, 0.57692308, 0.57692308,\n",
      "       0.57692308, 0.57692308, 0.61538462, 0.61538462, 0.61538462,\n",
      "       0.61538462, 0.53846154, 0.53846154, 0.53846154, 0.53846154,\n",
      "       0.57692308, 0.57692308, 0.57692308, 0.57692308, 0.57692308,\n",
      "       0.57692308, 0.57692308, 0.57692308, 0.61538462, 0.61538462,\n",
      "       0.61538462, 0.61538462, 0.57692308, 0.57692308, 0.57692308,\n",
      "       0.57692308, 0.61538462, 0.61538462, 0.61538462, 0.61538462,\n",
      "       0.53846154, 0.53846154, 0.53846154, 0.53846154, 0.57692308,\n",
      "       0.57692308, 0.57692308, 0.57692308, 0.57692308, 0.57692308,\n",
      "       0.57692308, 0.57692308, 0.61538462, 0.61538462, 0.61538462,\n",
      "       0.61538462, 0.57692308, 0.57692308, 0.57692308, 0.57692308,\n",
      "       0.61538462, 0.61538462, 0.61538462, 0.61538462, 0.53846154,\n",
      "       0.53846154, 0.53846154, 0.53846154, 0.57692308, 0.57692308,\n",
      "       0.57692308, 0.57692308, 0.57692308, 0.57692308, 0.57692308,\n",
      "       0.57692308]), 'split1_test_score': array([0.53846154, 0.53846154, 0.53846154, 0.53846154, 0.65384615,\n",
      "       0.65384615, 0.65384615, 0.65384615, 0.61538462, 0.61538462,\n",
      "       0.61538462, 0.61538462, 0.53846154, 0.53846154, 0.53846154,\n",
      "       0.53846154, 0.65384615, 0.65384615, 0.65384615, 0.65384615,\n",
      "       0.5       , 0.5       , 0.5       , 0.5       , 0.53846154,\n",
      "       0.53846154, 0.53846154, 0.53846154, 0.65384615, 0.65384615,\n",
      "       0.65384615, 0.65384615, 0.61538462, 0.61538462, 0.61538462,\n",
      "       0.61538462, 0.53846154, 0.53846154, 0.53846154, 0.53846154,\n",
      "       0.65384615, 0.65384615, 0.65384615, 0.65384615, 0.46153846,\n",
      "       0.46153846, 0.46153846, 0.46153846, 0.53846154, 0.53846154,\n",
      "       0.53846154, 0.53846154, 0.65384615, 0.65384615, 0.65384615,\n",
      "       0.65384615, 0.61538462, 0.61538462, 0.61538462, 0.61538462,\n",
      "       0.53846154, 0.53846154, 0.53846154, 0.53846154, 0.65384615,\n",
      "       0.65384615, 0.65384615, 0.65384615, 0.46153846, 0.46153846,\n",
      "       0.46153846, 0.46153846, 0.53846154, 0.53846154, 0.53846154,\n",
      "       0.53846154, 0.65384615, 0.65384615, 0.65384615, 0.65384615,\n",
      "       0.61538462, 0.61538462, 0.61538462, 0.61538462, 0.53846154,\n",
      "       0.53846154, 0.53846154, 0.53846154, 0.65384615, 0.65384615,\n",
      "       0.65384615, 0.65384615, 0.46153846, 0.46153846, 0.46153846,\n",
      "       0.46153846]), 'split2_test_score': array([0.5       , 0.5       , 0.5       , 0.5       , 0.61538462,\n",
      "       0.61538462, 0.61538462, 0.61538462, 0.53846154, 0.53846154,\n",
      "       0.53846154, 0.53846154, 0.5       , 0.5       , 0.5       ,\n",
      "       0.5       , 0.61538462, 0.61538462, 0.61538462, 0.61538462,\n",
      "       0.69230769, 0.69230769, 0.69230769, 0.69230769, 0.5       ,\n",
      "       0.5       , 0.5       , 0.5       , 0.61538462, 0.61538462,\n",
      "       0.61538462, 0.61538462, 0.53846154, 0.53846154, 0.53846154,\n",
      "       0.53846154, 0.5       , 0.5       , 0.5       , 0.5       ,\n",
      "       0.61538462, 0.61538462, 0.61538462, 0.61538462, 0.69230769,\n",
      "       0.69230769, 0.69230769, 0.69230769, 0.5       , 0.5       ,\n",
      "       0.5       , 0.5       , 0.61538462, 0.61538462, 0.61538462,\n",
      "       0.61538462, 0.53846154, 0.53846154, 0.53846154, 0.53846154,\n",
      "       0.5       , 0.5       , 0.5       , 0.5       , 0.61538462,\n",
      "       0.61538462, 0.61538462, 0.61538462, 0.69230769, 0.69230769,\n",
      "       0.69230769, 0.69230769, 0.5       , 0.5       , 0.5       ,\n",
      "       0.5       , 0.61538462, 0.61538462, 0.61538462, 0.61538462,\n",
      "       0.53846154, 0.53846154, 0.53846154, 0.53846154, 0.5       ,\n",
      "       0.5       , 0.5       , 0.5       , 0.61538462, 0.61538462,\n",
      "       0.61538462, 0.61538462, 0.65384615, 0.65384615, 0.65384615,\n",
      "       0.65384615]), 'split3_test_score': array([0.61538462, 0.61538462, 0.61538462, 0.61538462, 0.42307692,\n",
      "       0.42307692, 0.42307692, 0.42307692, 0.46153846, 0.46153846,\n",
      "       0.46153846, 0.46153846, 0.53846154, 0.53846154, 0.53846154,\n",
      "       0.53846154, 0.42307692, 0.42307692, 0.42307692, 0.42307692,\n",
      "       0.53846154, 0.53846154, 0.53846154, 0.53846154, 0.61538462,\n",
      "       0.61538462, 0.61538462, 0.61538462, 0.42307692, 0.42307692,\n",
      "       0.42307692, 0.42307692, 0.46153846, 0.46153846, 0.46153846,\n",
      "       0.46153846, 0.53846154, 0.53846154, 0.53846154, 0.53846154,\n",
      "       0.42307692, 0.42307692, 0.42307692, 0.42307692, 0.53846154,\n",
      "       0.53846154, 0.53846154, 0.53846154, 0.61538462, 0.61538462,\n",
      "       0.61538462, 0.61538462, 0.42307692, 0.42307692, 0.42307692,\n",
      "       0.42307692, 0.46153846, 0.46153846, 0.46153846, 0.46153846,\n",
      "       0.53846154, 0.53846154, 0.53846154, 0.53846154, 0.42307692,\n",
      "       0.42307692, 0.42307692, 0.42307692, 0.53846154, 0.53846154,\n",
      "       0.53846154, 0.53846154, 0.61538462, 0.61538462, 0.61538462,\n",
      "       0.61538462, 0.42307692, 0.42307692, 0.42307692, 0.42307692,\n",
      "       0.46153846, 0.46153846, 0.46153846, 0.46153846, 0.53846154,\n",
      "       0.53846154, 0.53846154, 0.53846154, 0.42307692, 0.42307692,\n",
      "       0.42307692, 0.42307692, 0.53846154, 0.53846154, 0.53846154,\n",
      "       0.53846154]), 'split4_test_score': array([0.52, 0.52, 0.52, 0.52, 0.6 , 0.6 , 0.6 , 0.6 , 0.48, 0.48, 0.48,\n",
      "       0.48, 0.52, 0.52, 0.52, 0.52, 0.6 , 0.6 , 0.6 , 0.6 , 0.64, 0.64,\n",
      "       0.64, 0.64, 0.52, 0.52, 0.52, 0.52, 0.64, 0.64, 0.64, 0.64, 0.48,\n",
      "       0.48, 0.48, 0.48, 0.52, 0.52, 0.52, 0.52, 0.64, 0.64, 0.64, 0.64,\n",
      "       0.64, 0.64, 0.64, 0.64, 0.52, 0.52, 0.52, 0.52, 0.64, 0.64, 0.64,\n",
      "       0.64, 0.48, 0.48, 0.48, 0.48, 0.52, 0.52, 0.52, 0.52, 0.64, 0.64,\n",
      "       0.64, 0.64, 0.64, 0.64, 0.64, 0.64, 0.52, 0.52, 0.52, 0.52, 0.64,\n",
      "       0.64, 0.64, 0.64, 0.48, 0.48, 0.48, 0.48, 0.52, 0.52, 0.52, 0.52,\n",
      "       0.64, 0.64, 0.64, 0.64, 0.64, 0.64, 0.64, 0.64]), 'mean_test_score': array([0.55784615, 0.55784615, 0.55784615, 0.55784615, 0.57384615,\n",
      "       0.57384615, 0.57384615, 0.57384615, 0.54215385, 0.54215385,\n",
      "       0.54215385, 0.54215385, 0.52707692, 0.52707692, 0.52707692,\n",
      "       0.52707692, 0.57384615, 0.57384615, 0.57384615, 0.57384615,\n",
      "       0.58953846, 0.58953846, 0.58953846, 0.58953846, 0.55784615,\n",
      "       0.55784615, 0.55784615, 0.55784615, 0.58184615, 0.58184615,\n",
      "       0.58184615, 0.58184615, 0.54215385, 0.54215385, 0.54215385,\n",
      "       0.54215385, 0.52707692, 0.52707692, 0.52707692, 0.52707692,\n",
      "       0.58184615, 0.58184615, 0.58184615, 0.58184615, 0.58184615,\n",
      "       0.58184615, 0.58184615, 0.58184615, 0.55784615, 0.55784615,\n",
      "       0.55784615, 0.55784615, 0.58184615, 0.58184615, 0.58184615,\n",
      "       0.58184615, 0.54215385, 0.54215385, 0.54215385, 0.54215385,\n",
      "       0.52707692, 0.52707692, 0.52707692, 0.52707692, 0.58184615,\n",
      "       0.58184615, 0.58184615, 0.58184615, 0.58184615, 0.58184615,\n",
      "       0.58184615, 0.58184615, 0.55784615, 0.55784615, 0.55784615,\n",
      "       0.55784615, 0.58184615, 0.58184615, 0.58184615, 0.58184615,\n",
      "       0.54215385, 0.54215385, 0.54215385, 0.54215385, 0.52707692,\n",
      "       0.52707692, 0.52707692, 0.52707692, 0.58184615, 0.58184615,\n",
      "       0.58184615, 0.58184615, 0.57415385, 0.57415385, 0.57415385,\n",
      "       0.57415385]), 'std_test_score': array([0.04852962, 0.04852962, 0.04852962, 0.04852962, 0.07943588,\n",
      "       0.07943588, 0.07943588, 0.07943588, 0.06496317, 0.06496317,\n",
      "       0.06496317, 0.06496317, 0.01531059, 0.01531059, 0.01531059,\n",
      "       0.01531059, 0.07943588, 0.07943588, 0.07943588, 0.07943588,\n",
      "       0.06912744, 0.06912744, 0.06912744, 0.06912744, 0.04852962,\n",
      "       0.04852962, 0.04852962, 0.04852962, 0.08357345, 0.08357345,\n",
      "       0.08357345, 0.08357345, 0.06496317, 0.06496317, 0.06496317,\n",
      "       0.06496317, 0.01531059, 0.01531059, 0.01531059, 0.01531059,\n",
      "       0.08357345, 0.08357345, 0.08357345, 0.08357345, 0.07995502,\n",
      "       0.07995502, 0.07995502, 0.07995502, 0.04852962, 0.04852962,\n",
      "       0.04852962, 0.04852962, 0.08357345, 0.08357345, 0.08357345,\n",
      "       0.08357345, 0.06496317, 0.06496317, 0.06496317, 0.06496317,\n",
      "       0.01531059, 0.01531059, 0.01531059, 0.01531059, 0.08357345,\n",
      "       0.08357345, 0.08357345, 0.08357345, 0.07995502, 0.07995502,\n",
      "       0.07995502, 0.07995502, 0.04852962, 0.04852962, 0.04852962,\n",
      "       0.04852962, 0.08357345, 0.08357345, 0.08357345, 0.08357345,\n",
      "       0.06496317, 0.06496317, 0.06496317, 0.06496317, 0.01531059,\n",
      "       0.01531059, 0.01531059, 0.01531059, 0.08357345, 0.08357345,\n",
      "       0.08357345, 0.08357345, 0.07021455, 0.07021455, 0.07021455,\n",
      "       0.07021455]), 'rank_test_score': array([49, 49, 49, 49, 41, 41, 41, 41, 65, 65, 65, 65, 81, 81, 81, 81, 41,\n",
      "       41, 41, 41,  1,  1,  1,  1, 49, 49, 49, 49,  5,  5,  5,  5, 65, 65,\n",
      "       65, 65, 81, 81, 81, 81,  5,  5,  5,  5,  5,  5,  5,  5, 49, 49, 49,\n",
      "       49,  5,  5,  5,  5, 65, 65, 65, 65, 81, 81, 81, 81,  5,  5,  5,  5,\n",
      "        5,  5,  5,  5, 49, 49, 49, 49,  5,  5,  5,  5, 65, 65, 65, 65, 81,\n",
      "       81, 81, 81,  5,  5,  5,  5, 37, 37, 37, 37], dtype=int32)}\n"
     ]
    }
   ],
   "source": [
    "print(model_grid1.fit(X_new, y_new).cv_results_)"
   ]
  },
  {
   "cell_type": "code",
   "execution_count": 19,
   "metadata": {},
   "outputs": [
    {
     "name": "stdout",
     "output_type": "stream",
     "text": [
      "              precision    recall  f1-score   support\n",
      "\n",
      "           0       0.45      0.59      0.51        22\n",
      "           1       0.53      0.38      0.44        26\n",
      "\n",
      "    accuracy                           0.48        48\n",
      "   macro avg       0.49      0.49      0.48        48\n",
      "weighted avg       0.49      0.48      0.47        48\n",
      "\n"
     ]
    },
    {
     "data": {
      "text/html": [
       "<div>\n",
       "<style scoped>\n",
       "    .dataframe tbody tr th:only-of-type {\n",
       "        vertical-align: middle;\n",
       "    }\n",
       "\n",
       "    .dataframe tbody tr th {\n",
       "        vertical-align: top;\n",
       "    }\n",
       "\n",
       "    .dataframe thead th {\n",
       "        text-align: right;\n",
       "    }\n",
       "</style>\n",
       "<table border=\"1\" class=\"dataframe\">\n",
       "  <thead>\n",
       "    <tr style=\"text-align: right;\">\n",
       "      <th></th>\n",
       "      <th>0</th>\n",
       "      <th>1</th>\n",
       "    </tr>\n",
       "  </thead>\n",
       "  <tbody>\n",
       "    <tr>\n",
       "      <th>0</th>\n",
       "      <td>13</td>\n",
       "      <td>9</td>\n",
       "    </tr>\n",
       "    <tr>\n",
       "      <th>1</th>\n",
       "      <td>16</td>\n",
       "      <td>10</td>\n",
       "    </tr>\n",
       "  </tbody>\n",
       "</table>\n",
       "</div>"
      ],
      "text/plain": [
       "    0   1\n",
       "0  13   9\n",
       "1  16  10"
      ]
     },
     "execution_count": 19,
     "metadata": {},
     "output_type": "execute_result"
    }
   ],
   "source": [
    "#find the predicted y based on the pipeline\n",
    "pred_y = model_grid1.predict(X_test)\n",
    "\n",
    "#find the precision, recall, f1 score, and accuracy over the model\n",
    "model_grid1.score(X_test, y_test)\n",
    "print(classification_report(y_test, pred_y))\n",
    "pd.DataFrame(confusion_matrix(y_test, pred_y))"
   ]
  },
  {
   "cell_type": "markdown",
   "metadata": {},
   "source": [
    "### Pipeline 2"
   ]
  },
  {
   "cell_type": "code",
   "execution_count": 20,
   "metadata": {},
   "outputs": [],
   "source": [
    "#anomoly detection via isolation forest\n",
    "#find outliers via predict = -1\n",
    "#set new x and y \n",
    "iso = IsolationForest().fit(X_train, y_train)\n",
    "iso_outliers = iso.predict(X_train)==-1\n",
    "X_iso = X_train[~iso_outliers]\n",
    "y_iso = y_train[~iso_outliers]"
   ]
  },
  {
   "cell_type": "code",
   "execution_count": 21,
   "metadata": {},
   "outputs": [
    {
     "data": {
      "text/plain": [
       "GridSearchCV(cv=5,\n",
       "             estimator=Pipeline(steps=[('RFE',\n",
       "                                        RFE(estimator=SVR(kernel='linear'))),\n",
       "                                       ('LR', LogisticRegression())]),\n",
       "             param_grid={'LR__C': [1.0, 1.1, 1.2, 1.5, 1.8, 2.0],\n",
       "                         'LR__tol': [0.0001, 1e-05, 0.001, 0.0002, 0.0003],\n",
       "                         'RFE__n_features_to_select': [2, 4, 6, 8, 10, 11]})"
      ]
     },
     "execution_count": 21,
     "metadata": {},
     "output_type": "execute_result"
    }
   ],
   "source": [
    "#build pipeline 2\n",
    "\n",
    "#RFE used for feature selection to find ideal ones\n",
    "#perform logistic regression for classification\n",
    "pipe2 = Pipeline([\n",
    "    ('RFE', RFE(estimator=SVR(kernel='linear'))),\n",
    "    ('LR', LogisticRegression())\n",
    "])\n",
    "\n",
    "param_grid = {\n",
    "    'RFE__n_features_to_select':[2,4,6,8,10,11],\n",
    "    'LR__tol':[1e-4, 1e-5, 1e-3, 2e-4, 3e-4],\n",
    "    'LR__C':[1.0,1.1,1.2,1.5,1.8,2.0]\n",
    "}\n",
    "\n",
    "#model\n",
    "model_grid2 = GridSearchCV(pipe2, param_grid, cv=5)\n",
    "model_grid2.fit(X_iso, y_iso)"
   ]
  },
  {
   "cell_type": "code",
   "execution_count": 22,
   "metadata": {},
   "outputs": [
    {
     "data": {
      "text/plain": [
       "Pipeline(steps=[('RFE',\n",
       "                 RFE(estimator=SVR(kernel='linear'), n_features_to_select=2)),\n",
       "                ('LR', LogisticRegression())])"
      ]
     },
     "execution_count": 22,
     "metadata": {},
     "output_type": "execute_result"
    }
   ],
   "source": [
    "#look at the best estiamtor for pipeline 1\n",
    "model_grid2.best_estimator_"
   ]
  },
  {
   "cell_type": "code",
   "execution_count": 23,
   "metadata": {},
   "outputs": [
    {
     "data": {
      "text/plain": [
       "0.844155844155844"
      ]
     },
     "execution_count": 23,
     "metadata": {},
     "output_type": "execute_result"
    }
   ],
   "source": [
    "#best score\n",
    "model_grid2.best_score_"
   ]
  },
  {
   "cell_type": "code",
   "execution_count": 24,
   "metadata": {},
   "outputs": [
    {
     "name": "stdout",
     "output_type": "stream",
     "text": [
      "              precision    recall  f1-score   support\n",
      "\n",
      "           0       0.65      0.91      0.75        22\n",
      "           1       0.88      0.58      0.70        26\n",
      "\n",
      "    accuracy                           0.73        48\n",
      "   macro avg       0.76      0.74      0.73        48\n",
      "weighted avg       0.77      0.73      0.72        48\n",
      "\n"
     ]
    },
    {
     "data": {
      "text/html": [
       "<div>\n",
       "<style scoped>\n",
       "    .dataframe tbody tr th:only-of-type {\n",
       "        vertical-align: middle;\n",
       "    }\n",
       "\n",
       "    .dataframe tbody tr th {\n",
       "        vertical-align: top;\n",
       "    }\n",
       "\n",
       "    .dataframe thead th {\n",
       "        text-align: right;\n",
       "    }\n",
       "</style>\n",
       "<table border=\"1\" class=\"dataframe\">\n",
       "  <thead>\n",
       "    <tr style=\"text-align: right;\">\n",
       "      <th></th>\n",
       "      <th>0</th>\n",
       "      <th>1</th>\n",
       "    </tr>\n",
       "  </thead>\n",
       "  <tbody>\n",
       "    <tr>\n",
       "      <th>0</th>\n",
       "      <td>20</td>\n",
       "      <td>2</td>\n",
       "    </tr>\n",
       "    <tr>\n",
       "      <th>1</th>\n",
       "      <td>11</td>\n",
       "      <td>15</td>\n",
       "    </tr>\n",
       "  </tbody>\n",
       "</table>\n",
       "</div>"
      ],
      "text/plain": [
       "    0   1\n",
       "0  20   2\n",
       "1  11  15"
      ]
     },
     "execution_count": 24,
     "metadata": {},
     "output_type": "execute_result"
    }
   ],
   "source": [
    "#find the predicted y based on the pipeline\n",
    "pred_y = model_grid2.predict(X_test)\n",
    "\n",
    "#find the precision, recall, f1 score, and accuracy over the model\n",
    "model_grid2.score(X_test, y_test)\n",
    "print(classification_report(y_test, pred_y))\n",
    "pd.DataFrame(confusion_matrix(y_test, pred_y))"
   ]
  },
  {
   "cell_type": "markdown",
   "metadata": {},
   "source": [
    "Pipeline 2 performed much better than pipeline 1 in all aspects of precision, recall, f1-score and overall accuracy. The confusion matrix shows 13 incorrect predictions out of 48. Model best score 0.84."
   ]
  },
  {
   "cell_type": "markdown",
   "metadata": {},
   "source": [
    "### Pipeline 3"
   ]
  },
  {
   "cell_type": "code",
   "execution_count": 25,
   "metadata": {},
   "outputs": [],
   "source": [
    "#local outlier factor via isolation forest\n",
    "#find outliers via predict = -1\n",
    "#set new x and y \n",
    "lof = LocalOutlierFactor().fit(X_train, y_train)\n",
    "lof_outliers = lof.fit_predict(X_train)==-1\n",
    "X_lof = X_train[~lof_outliers]\n",
    "y_lof = y_train[~lof_outliers]"
   ]
  },
  {
   "cell_type": "code",
   "execution_count": 26,
   "metadata": {},
   "outputs": [
    {
     "data": {
      "text/plain": [
       "GridSearchCV(cv=5,\n",
       "             estimator=Pipeline(steps=[('SKB',\n",
       "                                        SelectKBest(score_func=<function chi2 at 0x09C6F9C0>)),\n",
       "                                       ('DTC', DecisionTreeClassifier())]),\n",
       "             param_grid={'DTC__max_features': [2, 4, 6, 8, 10],\n",
       "                         'DTC__min_samples_split': [2, 3, 4]})"
      ]
     },
     "execution_count": 26,
     "metadata": {},
     "output_type": "execute_result"
    }
   ],
   "source": [
    "#build pipeline 3\n",
    "\n",
    "#select K best used for feature selection\n",
    "#DTC classification\n",
    "pipe3 = Pipeline([\n",
    "    ('SKB', SelectKBest(chi2)),\n",
    "    ('DTC', DecisionTreeClassifier())\n",
    "])\n",
    "\n",
    "\n",
    "param_grid = {\n",
    "    'DTC__max_features':[2,4,6,8,10],\n",
    "    'DTC__min_samples_split':[2,3,4]\n",
    "}\n",
    "\n",
    "#model\n",
    "model_grid3 = GridSearchCV(pipe3,param_grid, cv=5)\n",
    "model_grid3.fit(X_lof, y_lof)"
   ]
  },
  {
   "cell_type": "code",
   "execution_count": 27,
   "metadata": {},
   "outputs": [
    {
     "data": {
      "text/plain": [
       "Pipeline(steps=[('SKB', SelectKBest(score_func=<function chi2 at 0x09C6F9C0>)),\n",
       "                ('DTC',\n",
       "                 DecisionTreeClassifier(max_features=10, min_samples_split=3))])"
      ]
     },
     "execution_count": 27,
     "metadata": {},
     "output_type": "execute_result"
    }
   ],
   "source": [
    "#look at the best estiamtor for pipeline 3\n",
    "model_grid3.best_estimator_"
   ]
  },
  {
   "cell_type": "code",
   "execution_count": 28,
   "metadata": {},
   "outputs": [
    {
     "data": {
      "text/plain": [
       "0.8327586206896551"
      ]
     },
     "execution_count": 28,
     "metadata": {},
     "output_type": "execute_result"
    }
   ],
   "source": [
    "#best score\n",
    "model_grid3.best_score_"
   ]
  },
  {
   "cell_type": "code",
   "execution_count": 29,
   "metadata": {},
   "outputs": [
    {
     "name": "stdout",
     "output_type": "stream",
     "text": [
      "              precision    recall  f1-score   support\n",
      "\n",
      "           0       0.69      0.91      0.78        22\n",
      "           1       0.89      0.65      0.76        26\n",
      "\n",
      "    accuracy                           0.77        48\n",
      "   macro avg       0.79      0.78      0.77        48\n",
      "weighted avg       0.80      0.77      0.77        48\n",
      "\n"
     ]
    },
    {
     "data": {
      "text/html": [
       "<div>\n",
       "<style scoped>\n",
       "    .dataframe tbody tr th:only-of-type {\n",
       "        vertical-align: middle;\n",
       "    }\n",
       "\n",
       "    .dataframe tbody tr th {\n",
       "        vertical-align: top;\n",
       "    }\n",
       "\n",
       "    .dataframe thead th {\n",
       "        text-align: right;\n",
       "    }\n",
       "</style>\n",
       "<table border=\"1\" class=\"dataframe\">\n",
       "  <thead>\n",
       "    <tr style=\"text-align: right;\">\n",
       "      <th></th>\n",
       "      <th>0</th>\n",
       "      <th>1</th>\n",
       "    </tr>\n",
       "  </thead>\n",
       "  <tbody>\n",
       "    <tr>\n",
       "      <th>0</th>\n",
       "      <td>20</td>\n",
       "      <td>2</td>\n",
       "    </tr>\n",
       "    <tr>\n",
       "      <th>1</th>\n",
       "      <td>9</td>\n",
       "      <td>17</td>\n",
       "    </tr>\n",
       "  </tbody>\n",
       "</table>\n",
       "</div>"
      ],
      "text/plain": [
       "    0   1\n",
       "0  20   2\n",
       "1   9  17"
      ]
     },
     "execution_count": 29,
     "metadata": {},
     "output_type": "execute_result"
    }
   ],
   "source": [
    "#find the predicted y based on the pipeline\n",
    "pred_y = model_grid3.predict(X_test)\n",
    "\n",
    "#find the precision, recall, f1 score, and accuracy over the model\n",
    "model_grid3.score(X_test, y_test)\n",
    "print(classification_report(y_test, pred_y))\n",
    "pd.DataFrame(confusion_matrix(y_test, pred_y))"
   ]
  },
  {
   "cell_type": "markdown",
   "metadata": {},
   "source": [
    "Pipeline 3 had better results than pipeline 2 with an accuracy of 0.77 and 11 false predictions. Best score was 0.83."
   ]
  },
  {
   "cell_type": "markdown",
   "metadata": {},
   "source": [
    "### Pipeline 4"
   ]
  },
  {
   "cell_type": "code",
   "execution_count": 30,
   "metadata": {},
   "outputs": [],
   "source": [
    "#anomoly detection via isolation forest\n",
    "#find outliers via predict = -1\n",
    "#set new x and y \n",
    "iso = IsolationForest().fit(X_train, y_train)\n",
    "iso_outliers = iso.predict(X_train)==-1\n",
    "X_iso = X_train[~iso_outliers]\n",
    "y_iso = y_train[~iso_outliers]"
   ]
  },
  {
   "cell_type": "code",
   "execution_count": 31,
   "metadata": {},
   "outputs": [
    {
     "data": {
      "text/plain": [
       "GridSearchCV(cv=5,\n",
       "             estimator=Pipeline(steps=[('SKB',\n",
       "                                        SelectKBest(score_func=<function chi2 at 0x09C6F9C0>)),\n",
       "                                       ('LR', LogisticRegression())]),\n",
       "             param_grid={'LR__C': [1.0, 1.1, 1.2, 1.5, 1.8, 2.0],\n",
       "                         'LR__tol': [0.0001, 1e-05, 0.001, 0.0002, 0.0003],\n",
       "                         'SKB__k': [1, 5, 10]})"
      ]
     },
     "execution_count": 31,
     "metadata": {},
     "output_type": "execute_result"
    }
   ],
   "source": [
    "#build pipeline 4\n",
    "\n",
    "#SKB via chi2 and LR for the pipeline\n",
    "pipe4 = Pipeline([\n",
    "    ('SKB', SelectKBest(chi2)),\n",
    "    ('LR', LogisticRegression())\n",
    "])\n",
    "\n",
    "param_grid = {\n",
    "    'SKB__k':[1,5,10],\n",
    "    'LR__tol':[1e-4, 1e-5, 1e-3, 2e-4, 3e-4],\n",
    "    'LR__C':[1.0,1.1,1.2,1.5,1.8,2.0]\n",
    "}\n",
    "\n",
    "#model\n",
    "model_grid4 = GridSearchCV(pipe4, param_grid, cv=5)\n",
    "model_grid4.fit(X_iso, y_iso)"
   ]
  },
  {
   "cell_type": "code",
   "execution_count": 32,
   "metadata": {},
   "outputs": [
    {
     "data": {
      "text/plain": [
       "Pipeline(steps=[('SKB',\n",
       "                 SelectKBest(k=1, score_func=<function chi2 at 0x09C6F9C0>)),\n",
       "                ('LR', LogisticRegression())])"
      ]
     },
     "execution_count": 32,
     "metadata": {},
     "output_type": "execute_result"
    }
   ],
   "source": [
    "#look at the best estiamtor for pipeline 4\n",
    "model_grid4.best_estimator_"
   ]
  },
  {
   "cell_type": "code",
   "execution_count": 33,
   "metadata": {},
   "outputs": [
    {
     "data": {
      "text/plain": [
       "0.8095238095238095"
      ]
     },
     "execution_count": 33,
     "metadata": {},
     "output_type": "execute_result"
    }
   ],
   "source": [
    "#best score\n",
    "model_grid4.best_score_"
   ]
  },
  {
   "cell_type": "code",
   "execution_count": 34,
   "metadata": {},
   "outputs": [
    {
     "name": "stdout",
     "output_type": "stream",
     "text": [
      "              precision    recall  f1-score   support\n",
      "\n",
      "           0       0.63      0.86      0.73        22\n",
      "           1       0.83      0.58      0.68        26\n",
      "\n",
      "    accuracy                           0.71        48\n",
      "   macro avg       0.73      0.72      0.71        48\n",
      "weighted avg       0.74      0.71      0.70        48\n",
      "\n"
     ]
    },
    {
     "data": {
      "text/html": [
       "<div>\n",
       "<style scoped>\n",
       "    .dataframe tbody tr th:only-of-type {\n",
       "        vertical-align: middle;\n",
       "    }\n",
       "\n",
       "    .dataframe tbody tr th {\n",
       "        vertical-align: top;\n",
       "    }\n",
       "\n",
       "    .dataframe thead th {\n",
       "        text-align: right;\n",
       "    }\n",
       "</style>\n",
       "<table border=\"1\" class=\"dataframe\">\n",
       "  <thead>\n",
       "    <tr style=\"text-align: right;\">\n",
       "      <th></th>\n",
       "      <th>0</th>\n",
       "      <th>1</th>\n",
       "    </tr>\n",
       "  </thead>\n",
       "  <tbody>\n",
       "    <tr>\n",
       "      <th>0</th>\n",
       "      <td>19</td>\n",
       "      <td>3</td>\n",
       "    </tr>\n",
       "    <tr>\n",
       "      <th>1</th>\n",
       "      <td>11</td>\n",
       "      <td>15</td>\n",
       "    </tr>\n",
       "  </tbody>\n",
       "</table>\n",
       "</div>"
      ],
      "text/plain": [
       "    0   1\n",
       "0  19   3\n",
       "1  11  15"
      ]
     },
     "execution_count": 34,
     "metadata": {},
     "output_type": "execute_result"
    }
   ],
   "source": [
    "#find the predicted y based on the pipeline\n",
    "pred_y = model_grid4.predict(X_test)\n",
    "\n",
    "#find the precision, recall, f1 score, and accuracy over the model\n",
    "model_grid4.score(X_test, y_test)\n",
    "print(classification_report(y_test, pred_y))\n",
    "pd.DataFrame(confusion_matrix(y_test, pred_y))"
   ]
  },
  {
   "cell_type": "markdown",
   "metadata": {},
   "source": [
    "Pipleline 4 had similar accuracy to pipeline 2 with 0.71 or 14 misclassified cases. Pipeline 3 still performing the best v. others."
   ]
  },
  {
   "cell_type": "markdown",
   "metadata": {},
   "source": [
    "### Pipeline 5 "
   ]
  },
  {
   "cell_type": "code",
   "execution_count": 35,
   "metadata": {},
   "outputs": [],
   "source": [
    "#local outlier factor via isolation forest\n",
    "#find outliers via predict = -1\n",
    "#set new x and y \n",
    "lof = LocalOutlierFactor().fit(X_train, y_train)\n",
    "lof_outliers = lof.fit_predict(X_train)==-1\n",
    "X_lof = X_train[~lof_outliers]\n",
    "y_lof = y_train[~lof_outliers]"
   ]
  },
  {
   "cell_type": "code",
   "execution_count": 36,
   "metadata": {},
   "outputs": [
    {
     "data": {
      "text/plain": [
       "GridSearchCV(cv=5,\n",
       "             estimator=Pipeline(steps=[('VT', VarianceThreshold()),\n",
       "                                       ('RFC', RandomForestClassifier())]),\n",
       "             param_grid={'RFC__min_samples_split': [2, 3, 4],\n",
       "                         'RFC__n_estimators': [10, 50, 100]})"
      ]
     },
     "execution_count": 36,
     "metadata": {},
     "output_type": "execute_result"
    }
   ],
   "source": [
    "#build pipeline 5\n",
    "\n",
    "#RFE used for feature selection to find ideal ones\n",
    "pipe5 = Pipeline([\n",
    "    ('VT',VarianceThreshold()),\n",
    "    ('RFC',RandomForestClassifier())\n",
    "])\n",
    "\n",
    "param_grid = {\n",
    "    'RFC__n_estimators':[10,50,100],\n",
    "    'RFC__min_samples_split':[2,3,4]\n",
    "}\n",
    "\n",
    "#model\n",
    "model_grid5 = GridSearchCV(pipe5, param_grid, cv=5)\n",
    "model_grid5.fit(X_lof, y_lof)"
   ]
  },
  {
   "cell_type": "code",
   "execution_count": 37,
   "metadata": {},
   "outputs": [],
   "source": [
    "#model_grid5.get_params().keys()"
   ]
  },
  {
   "cell_type": "code",
   "execution_count": 38,
   "metadata": {},
   "outputs": [
    {
     "data": {
      "text/plain": [
       "Pipeline(steps=[('VT', VarianceThreshold()),\n",
       "                ('RFC',\n",
       "                 RandomForestClassifier(min_samples_split=4, n_estimators=50))])"
      ]
     },
     "execution_count": 38,
     "metadata": {},
     "output_type": "execute_result"
    }
   ],
   "source": [
    "#look at the best estiamtor for pipeline 5\n",
    "model_grid5.best_estimator_"
   ]
  },
  {
   "cell_type": "code",
   "execution_count": 39,
   "metadata": {},
   "outputs": [
    {
     "data": {
      "text/plain": [
       "0.846551724137931"
      ]
     },
     "execution_count": 39,
     "metadata": {},
     "output_type": "execute_result"
    }
   ],
   "source": [
    "#best score\n",
    "model_grid5.best_score_"
   ]
  },
  {
   "cell_type": "code",
   "execution_count": 40,
   "metadata": {},
   "outputs": [
    {
     "name": "stdout",
     "output_type": "stream",
     "text": [
      "              precision    recall  f1-score   support\n",
      "\n",
      "           0       0.76      0.86      0.81        22\n",
      "           1       0.87      0.77      0.82        26\n",
      "\n",
      "    accuracy                           0.81        48\n",
      "   macro avg       0.81      0.82      0.81        48\n",
      "weighted avg       0.82      0.81      0.81        48\n",
      "\n"
     ]
    },
    {
     "data": {
      "text/html": [
       "<div>\n",
       "<style scoped>\n",
       "    .dataframe tbody tr th:only-of-type {\n",
       "        vertical-align: middle;\n",
       "    }\n",
       "\n",
       "    .dataframe tbody tr th {\n",
       "        vertical-align: top;\n",
       "    }\n",
       "\n",
       "    .dataframe thead th {\n",
       "        text-align: right;\n",
       "    }\n",
       "</style>\n",
       "<table border=\"1\" class=\"dataframe\">\n",
       "  <thead>\n",
       "    <tr style=\"text-align: right;\">\n",
       "      <th></th>\n",
       "      <th>0</th>\n",
       "      <th>1</th>\n",
       "    </tr>\n",
       "  </thead>\n",
       "  <tbody>\n",
       "    <tr>\n",
       "      <th>0</th>\n",
       "      <td>19</td>\n",
       "      <td>3</td>\n",
       "    </tr>\n",
       "    <tr>\n",
       "      <th>1</th>\n",
       "      <td>6</td>\n",
       "      <td>20</td>\n",
       "    </tr>\n",
       "  </tbody>\n",
       "</table>\n",
       "</div>"
      ],
      "text/plain": [
       "    0   1\n",
       "0  19   3\n",
       "1   6  20"
      ]
     },
     "execution_count": 40,
     "metadata": {},
     "output_type": "execute_result"
    }
   ],
   "source": [
    "#find the predicted y based on the pipeline\n",
    "pred_y = model_grid5.predict(X_test)\n",
    "\n",
    "#find the precision, recall, f1 score, and accuracy over the model\n",
    "model_grid5.score(X_test, y_test)\n",
    "print(classification_report(y_test, pred_y))\n",
    "pd.DataFrame(confusion_matrix(y_test, pred_y))"
   ]
  },
  {
   "cell_type": "markdown",
   "metadata": {},
   "source": [
    "Model 5 had best accuracy and precision of all models (0.81 accuracy) and best score of 0.84."
   ]
  },
  {
   "cell_type": "markdown",
   "metadata": {},
   "source": [
    "# Retrained Model Using Pipeline 5"
   ]
  },
  {
   "cell_type": "code",
   "execution_count": 52,
   "metadata": {},
   "outputs": [],
   "source": [
    "#retrain pipeline with best pipeline on the fully sampled set\n",
    "trained_model = model_grid5.fit(X_train, y_train)"
   ]
  },
  {
   "cell_type": "code",
   "execution_count": 53,
   "metadata": {},
   "outputs": [],
   "source": [
    "#scale X test\n",
    "scaled_X_test = MinMaxScaler().fit_transform(X_test)"
   ]
  },
  {
   "cell_type": "code",
   "execution_count": 54,
   "metadata": {},
   "outputs": [],
   "source": [
    "#prediction for y\n",
    "pred_y = trained_model.predict(scaled_X_test)"
   ]
  },
  {
   "cell_type": "code",
   "execution_count": 55,
   "metadata": {},
   "outputs": [
    {
     "name": "stdout",
     "output_type": "stream",
     "text": [
      "              precision    recall  f1-score   support\n",
      "\n",
      "           0       0.74      0.91      0.82        22\n",
      "           1       0.90      0.73      0.81        26\n",
      "\n",
      "    accuracy                           0.81        48\n",
      "   macro avg       0.82      0.82      0.81        48\n",
      "weighted avg       0.83      0.81      0.81        48\n",
      "\n"
     ]
    },
    {
     "data": {
      "text/html": [
       "<div>\n",
       "<style scoped>\n",
       "    .dataframe tbody tr th:only-of-type {\n",
       "        vertical-align: middle;\n",
       "    }\n",
       "\n",
       "    .dataframe tbody tr th {\n",
       "        vertical-align: top;\n",
       "    }\n",
       "\n",
       "    .dataframe thead th {\n",
       "        text-align: right;\n",
       "    }\n",
       "</style>\n",
       "<table border=\"1\" class=\"dataframe\">\n",
       "  <thead>\n",
       "    <tr style=\"text-align: right;\">\n",
       "      <th></th>\n",
       "      <th>0</th>\n",
       "      <th>1</th>\n",
       "    </tr>\n",
       "  </thead>\n",
       "  <tbody>\n",
       "    <tr>\n",
       "      <th>0</th>\n",
       "      <td>20</td>\n",
       "      <td>2</td>\n",
       "    </tr>\n",
       "    <tr>\n",
       "      <th>1</th>\n",
       "      <td>7</td>\n",
       "      <td>19</td>\n",
       "    </tr>\n",
       "  </tbody>\n",
       "</table>\n",
       "</div>"
      ],
      "text/plain": [
       "    0   1\n",
       "0  20   2\n",
       "1   7  19"
      ]
     },
     "execution_count": 55,
     "metadata": {},
     "output_type": "execute_result"
    }
   ],
   "source": [
    "#test it all\n",
    "model_grid5.score(scaled_X_test, y_test)\n",
    "\n",
    "print(classification_report(y_test, pred_y))\n",
    "pd.DataFrame(confusion_matrix(y_test, pred_y))"
   ]
  },
  {
   "cell_type": "markdown",
   "metadata": {},
   "source": [
    "### Retrained Model, Pipeline 4, Removed Outliers"
   ]
  },
  {
   "cell_type": "code",
   "execution_count": 56,
   "metadata": {},
   "outputs": [],
   "source": [
    "#run test with outliers removed\n",
    "lof = LocalOutlierFactor().fit(scaled_X_test, y_test)\n",
    "lof_outliers = lof.fit_predict(scaled_X_test)==-1\n",
    "X_lof_test = scaled_X_test[~lof_outliers]\n",
    "y_lof_test = y_test[~lof_outliers]"
   ]
  },
  {
   "cell_type": "code",
   "execution_count": 57,
   "metadata": {},
   "outputs": [],
   "source": [
    "#prediction for y\n",
    "pred_y = trained_model.predict(X_lof_test)"
   ]
  },
  {
   "cell_type": "code",
   "execution_count": 58,
   "metadata": {},
   "outputs": [
    {
     "name": "stdout",
     "output_type": "stream",
     "text": [
      "              precision    recall  f1-score   support\n",
      "\n",
      "           0       0.74      0.91      0.82        22\n",
      "           1       0.90      0.73      0.81        26\n",
      "\n",
      "    accuracy                           0.81        48\n",
      "   macro avg       0.82      0.82      0.81        48\n",
      "weighted avg       0.83      0.81      0.81        48\n",
      "\n"
     ]
    },
    {
     "data": {
      "text/html": [
       "<div>\n",
       "<style scoped>\n",
       "    .dataframe tbody tr th:only-of-type {\n",
       "        vertical-align: middle;\n",
       "    }\n",
       "\n",
       "    .dataframe tbody tr th {\n",
       "        vertical-align: top;\n",
       "    }\n",
       "\n",
       "    .dataframe thead th {\n",
       "        text-align: right;\n",
       "    }\n",
       "</style>\n",
       "<table border=\"1\" class=\"dataframe\">\n",
       "  <thead>\n",
       "    <tr style=\"text-align: right;\">\n",
       "      <th></th>\n",
       "      <th>0</th>\n",
       "      <th>1</th>\n",
       "    </tr>\n",
       "  </thead>\n",
       "  <tbody>\n",
       "    <tr>\n",
       "      <th>0</th>\n",
       "      <td>20</td>\n",
       "      <td>2</td>\n",
       "    </tr>\n",
       "    <tr>\n",
       "      <th>1</th>\n",
       "      <td>7</td>\n",
       "      <td>19</td>\n",
       "    </tr>\n",
       "  </tbody>\n",
       "</table>\n",
       "</div>"
      ],
      "text/plain": [
       "    0   1\n",
       "0  20   2\n",
       "1   7  19"
      ]
     },
     "execution_count": 58,
     "metadata": {},
     "output_type": "execute_result"
    }
   ],
   "source": [
    "#test it all\n",
    "model_grid5.score(X_lof_test, y_lof_test)\n",
    "\n",
    "print(classification_report(y_lof_test, pred_y))\n",
    "pd.DataFrame(confusion_matrix(y_lof_test, pred_y))"
   ]
  },
  {
   "cell_type": "markdown",
   "metadata": {},
   "source": [
    "Same outcome with test outliers removed. Model 5 had an overall accuracy of 0.81."
   ]
  },
  {
   "cell_type": "markdown",
   "metadata": {},
   "source": [
    "### Train Test Split Overall Sample to Assess Performance"
   ]
  },
  {
   "cell_type": "code",
   "execution_count": 59,
   "metadata": {},
   "outputs": [],
   "source": [
    "#split overall data into train and test sets\n",
    "X_train_n, X_test_n, y_train_n, y_test_n = train_test_split(X,y,test_size=0.25)"
   ]
  },
  {
   "cell_type": "code",
   "execution_count": 60,
   "metadata": {},
   "outputs": [],
   "source": [
    "#standardize x\n",
    "scaled_X_train = MinMaxScaler().fit_transform(X_train_n)\n",
    "scaled_X_test = MinMaxScaler().fit_transform(X_test_n)\n",
    "\n",
    "#train using best pipeline model\n",
    "trained_model = model_grid5.fit(scaled_X_train, y_train_n)"
   ]
  },
  {
   "cell_type": "code",
   "execution_count": 61,
   "metadata": {},
   "outputs": [],
   "source": [
    "#prediction for y\n",
    "pred_y = trained_model.predict(scaled_X_test)"
   ]
  },
  {
   "cell_type": "code",
   "execution_count": 62,
   "metadata": {},
   "outputs": [
    {
     "name": "stdout",
     "output_type": "stream",
     "text": [
      "              precision    recall  f1-score   support\n",
      "\n",
      "           0       0.85      0.87      0.86        52\n",
      "           1       0.68      0.65      0.67        23\n",
      "\n",
      "    accuracy                           0.80        75\n",
      "   macro avg       0.77      0.76      0.76        75\n",
      "weighted avg       0.80      0.80      0.80        75\n",
      "\n"
     ]
    },
    {
     "data": {
      "text/html": [
       "<div>\n",
       "<style scoped>\n",
       "    .dataframe tbody tr th:only-of-type {\n",
       "        vertical-align: middle;\n",
       "    }\n",
       "\n",
       "    .dataframe tbody tr th {\n",
       "        vertical-align: top;\n",
       "    }\n",
       "\n",
       "    .dataframe thead th {\n",
       "        text-align: right;\n",
       "    }\n",
       "</style>\n",
       "<table border=\"1\" class=\"dataframe\">\n",
       "  <thead>\n",
       "    <tr style=\"text-align: right;\">\n",
       "      <th></th>\n",
       "      <th>0</th>\n",
       "      <th>1</th>\n",
       "    </tr>\n",
       "  </thead>\n",
       "  <tbody>\n",
       "    <tr>\n",
       "      <th>0</th>\n",
       "      <td>45</td>\n",
       "      <td>7</td>\n",
       "    </tr>\n",
       "    <tr>\n",
       "      <th>1</th>\n",
       "      <td>8</td>\n",
       "      <td>15</td>\n",
       "    </tr>\n",
       "  </tbody>\n",
       "</table>\n",
       "</div>"
      ],
      "text/plain": [
       "    0   1\n",
       "0  45   7\n",
       "1   8  15"
      ]
     },
     "execution_count": 62,
     "metadata": {},
     "output_type": "execute_result"
    }
   ],
   "source": [
    "#test it all\n",
    "model_grid5.score(scaled_X_test, y_test_n)\n",
    "\n",
    "print(classification_report(y_test_n, pred_y))\n",
    "pd.DataFrame(confusion_matrix(y_test_n, pred_y))"
   ]
  },
  {
   "cell_type": "markdown",
   "metadata": {},
   "source": [
    "On the overall testing dataset, the model produced performed with an accuracy of 80%. 15 outcomes were misclassified out of 75.  "
   ]
  },
  {
   "cell_type": "code",
   "execution_count": null,
   "metadata": {},
   "outputs": [],
   "source": []
  }
 ],
 "metadata": {
  "kernelspec": {
   "display_name": "Python 3",
   "language": "python",
   "name": "python3"
  },
  "language_info": {
   "codemirror_mode": {
    "name": "ipython",
    "version": 3
   },
   "file_extension": ".py",
   "mimetype": "text/x-python",
   "name": "python",
   "nbconvert_exporter": "python",
   "pygments_lexer": "ipython3",
   "version": "3.7.6"
  }
 },
 "nbformat": 4,
 "nbformat_minor": 4
}
